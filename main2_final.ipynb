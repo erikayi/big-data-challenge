{
 "cells": [
  {
   "cell_type": "code",
   "execution_count": 4,
   "metadata": {
    "colab": {
     "base_uri": "https://localhost:8080/"
    },
    "executionInfo": {
     "elapsed": 34464,
     "status": "ok",
     "timestamp": 1611174485177,
     "user": {
      "displayName": "Erika Yi",
      "photoUrl": "https://lh3.googleusercontent.com/a-/AOh14Ggz9v3ajjt637Cb6hx3Z1CLaITqBLD0pdIokrmTwQ=s64",
      "userId": "04227724872831522525"
     },
     "user_tz": 300
    },
    "id": "IJcg2brHJZ0R",
    "outputId": "9c5979a1-d7ab-472d-e9a7-3aa5bec37c42"
   },
   "outputs": [
    {
     "name": "stdout",
     "output_type": "stream",
     "text": [
      "\r",
      "0% [Working]\r",
      "            \r",
      "Get:1 https://cloud.r-project.org/bin/linux/ubuntu bionic-cran40/ InRelease [3,626 B]\n",
      "\r",
      "0% [Connecting to archive.ubuntu.com (91.189.88.142)] [Connecting to security.u\r",
      "0% [Connecting to archive.ubuntu.com (91.189.88.142)] [Connecting to security.u\r",
      "0% [1 InRelease gpgv 3,626 B] [Connecting to archive.ubuntu.com (91.189.88.142)\r",
      "                                                                               \r",
      "Ign:2 https://developer.download.nvidia.com/compute/cuda/repos/ubuntu1804/x86_64  InRelease\n",
      "Ign:3 https://developer.download.nvidia.com/compute/machine-learning/repos/ubuntu1804/x86_64  InRelease\n",
      "Get:4 https://developer.download.nvidia.com/compute/cuda/repos/ubuntu1804/x86_64  Release [697 B]\n",
      "Get:5 http://security.ubuntu.com/ubuntu bionic-security InRelease [88.7 kB]\n",
      "Hit:6 https://developer.download.nvidia.com/compute/machine-learning/repos/ubuntu1804/x86_64  Release\n",
      "Get:7 https://developer.download.nvidia.com/compute/cuda/repos/ubuntu1804/x86_64  Release.gpg [836 B]\n",
      "Hit:8 http://archive.ubuntu.com/ubuntu bionic InRelease\n",
      "Get:9 http://ppa.launchpad.net/c2d4u.team/c2d4u4.0+/ubuntu bionic InRelease [15.9 kB]\n",
      "Get:10 http://archive.ubuntu.com/ubuntu bionic-updates InRelease [88.7 kB]\n",
      "Hit:12 http://ppa.launchpad.net/cran/libgit2/ubuntu bionic InRelease\n",
      "Get:13 http://archive.ubuntu.com/ubuntu bionic-backports InRelease [74.6 kB]\n",
      "Ign:14 https://developer.download.nvidia.com/compute/cuda/repos/ubuntu1804/x86_64  Packages\n",
      "Get:14 https://developer.download.nvidia.com/compute/cuda/repos/ubuntu1804/x86_64  Packages [548 kB]\n",
      "Hit:15 http://ppa.launchpad.net/graphics-drivers/ppa/ubuntu bionic InRelease\n",
      "Get:16 http://security.ubuntu.com/ubuntu bionic-security/universe amd64 Packages [1,381 kB]\n",
      "Get:17 http://security.ubuntu.com/ubuntu bionic-security/multiverse amd64 Packages [35.5 kB]\n",
      "Get:18 http://security.ubuntu.com/ubuntu bionic-security/main amd64 Packages [1,890 kB]\n",
      "Get:19 http://ppa.launchpad.net/c2d4u.team/c2d4u4.0+/ubuntu bionic/main Sources [1,715 kB]\n",
      "Get:20 http://archive.ubuntu.com/ubuntu bionic-updates/multiverse amd64 Packages [42.3 kB]\n",
      "Get:21 http://archive.ubuntu.com/ubuntu bionic-updates/restricted amd64 Packages [314 kB]\n",
      "Get:22 http://archive.ubuntu.com/ubuntu bionic-updates/main amd64 Packages [2,318 kB]\n",
      "Get:23 http://archive.ubuntu.com/ubuntu bionic-updates/universe amd64 Packages [2,148 kB]\n",
      "Get:24 http://ppa.launchpad.net/c2d4u.team/c2d4u4.0+/ubuntu bionic/main amd64 Packages [878 kB]\n",
      "Fetched 11.5 MB in 3s (3,516 kB/s)\n",
      "Reading package lists... Done\n"
     ]
    }
   ],
   "source": [
    "import os\n",
    "# Find the latest version of spark 2.0  from http://www-us.apache.org/dist/spark/ and enter as the spark version\n",
    "# For example:\n",
    "# spark_version = 'spark-3.0.1'\n",
    "spark_version = 'spark-3.0.1'\n",
    "os.environ['SPARK_VERSION']=spark_version\n",
    "\n",
    "# Install Spark and Java\n",
    "!apt-get update\n",
    "!apt-get install openjdk-8-jdk-headless -qq > /dev/null\n",
    "!wget -q http://www-us.apache.org/dist/spark/$SPARK_VERSION/$SPARK_VERSION-bin-hadoop2.7.tgz\n",
    "!tar xf $SPARK_VERSION-bin-hadoop2.7.tgz\n",
    "!pip install -q findspark\n",
    "\n",
    "# Set Environment Variables\n",
    "os.environ[\"JAVA_HOME\"] = \"/usr/lib/jvm/java-8-openjdk-amd64\"\n",
    "os.environ[\"SPARK_HOME\"] = f\"/content/{spark_version}-bin-hadoop2.7\"\n",
    "\n",
    "# Start a SparkSession\n",
    "import findspark\n",
    "findspark.init()"
   ]
  },
  {
   "cell_type": "code",
   "execution_count": 5,
   "metadata": {
    "colab": {
     "base_uri": "https://localhost:8080/"
    },
    "executionInfo": {
     "elapsed": 30082,
     "status": "ok",
     "timestamp": 1611174485905,
     "user": {
      "displayName": "Erika Yi",
      "photoUrl": "https://lh3.googleusercontent.com/a-/AOh14Ggz9v3ajjt637Cb6hx3Z1CLaITqBLD0pdIokrmTwQ=s64",
      "userId": "04227724872831522525"
     },
     "user_tz": 300
    },
    "id": "rmvQvUvpvmAV",
    "outputId": "c37ee109-9bf5-4303-dd1a-c6e4a0e11c15"
   },
   "outputs": [
    {
     "name": "stdout",
     "output_type": "stream",
     "text": [
      "--2021-01-20 20:28:04--  https://jdbc.postgresql.org/download/postgresql-42.2.9.jar\n",
      "Resolving jdbc.postgresql.org (jdbc.postgresql.org)... 72.32.157.228, 2001:4800:3e1:1::228\n",
      "Connecting to jdbc.postgresql.org (jdbc.postgresql.org)|72.32.157.228|:443... connected.\n",
      "HTTP request sent, awaiting response... 200 OK\n",
      "Length: 914037 (893K) [application/java-archive]\n",
      "Saving to: ‘postgresql-42.2.9.jar’\n",
      "\n",
      "postgresql-42.2.9.j 100%[===================>] 892.61K  --.-KB/s    in 0.1s    \n",
      "\n",
      "2021-01-20 20:28:05 (8.53 MB/s) - ‘postgresql-42.2.9.jar’ saved [914037/914037]\n",
      "\n"
     ]
    }
   ],
   "source": [
    "!wget https://jdbc.postgresql.org/download/postgresql-42.2.9.jar"
   ]
  },
  {
   "cell_type": "code",
   "execution_count": 6,
   "metadata": {
    "executionInfo": {
     "elapsed": 33218,
     "status": "ok",
     "timestamp": 1611174491902,
     "user": {
      "displayName": "Erika Yi",
      "photoUrl": "https://lh3.googleusercontent.com/a-/AOh14Ggz9v3ajjt637Cb6hx3Z1CLaITqBLD0pdIokrmTwQ=s64",
      "userId": "04227724872831522525"
     },
     "user_tz": 300
    },
    "id": "MOkRxDgcvn8A"
   },
   "outputs": [],
   "source": [
    "from pyspark.sql import SparkSession\n",
    "spark = SparkSession.builder.appName(\"KitchenAmazonReview\").config(\"spark.driver.extraClassPath\",\"/content/postgresql-42.2.9.jar\").getOrCreate()"
   ]
  },
  {
   "cell_type": "code",
   "execution_count": 7,
   "metadata": {
    "colab": {
     "base_uri": "https://localhost:8080/"
    },
    "executionInfo": {
     "elapsed": 110439,
     "status": "ok",
     "timestamp": 1611174570256,
     "user": {
      "displayName": "Erika Yi",
      "photoUrl": "https://lh3.googleusercontent.com/a-/AOh14Ggz9v3ajjt637Cb6hx3Z1CLaITqBLD0pdIokrmTwQ=s64",
      "userId": "04227724872831522525"
     },
     "user_tz": 300
    },
    "id": "tmpGCglwJmeO",
    "outputId": "a892abc3-7902-4ffa-b229-9b740926a603"
   },
   "outputs": [
    {
     "name": "stdout",
     "output_type": "stream",
     "text": [
      "+-----------+-----------+--------------+----------+--------------+--------------------+----------------+-----------+-------------+-----------+----+-----------------+--------------------+--------------------+-----------+\n",
      "|marketplace|customer_id|     review_id|product_id|product_parent|       product_title|product_category|star_rating|helpful_votes|total_votes|vine|verified_purchase|     review_headline|         review_body|review_date|\n",
      "+-----------+-----------+--------------+----------+--------------+--------------------+----------------+-----------+-------------+-----------+----+-----------------+--------------------+--------------------+-----------+\n",
      "|         US|   37000337|R3DT59XH7HXR9K|B00303FI0G|     529320574|Arthur Court Pape...|         Kitchen|          5|            0|          0|   N|                Y|Beautiful. Looks ...|Beautiful.  Looks...| 2015-08-31|\n",
      "|         US|   15272914|R1LFS11BNASSU8|B00JCZKZN6|     274237558|Olde Thompson Bav...|         Kitchen|          5|            0|          1|   N|                Y| Awesome & Self-ness|I personally have...| 2015-08-31|\n",
      "|         US|   36137863|R296RT05AG0AF6|B00JLIKA5C|     544675303|Progressive Inter...|         Kitchen|          5|            0|          0|   N|                Y|Fabulous and wort...|Fabulous and wort...| 2015-08-31|\n",
      "|         US|   43311049|R3V37XDZ7ZCI3L|B000GBNB8G|     491599489|Zyliss Jumbo Garl...|         Kitchen|          5|            0|          1|   N|                Y|          Five Stars|A must if you lov...| 2015-08-31|\n",
      "|         US|   13763148|R14GU232NQFYX2|B00VJ5KX9S|     353790155|1 X Premier Pizza...|         Kitchen|          5|            0|          0|   N|                Y|     Better than sex|Worth every penny...| 2015-08-31|\n",
      "|         US|   19009420| RZQH4V7L2O1PL|B00HYB5YY0|     432241873|       CHEF Aluminum|         Kitchen|          1|            1|          1|   N|                Y|Does not work on ...|The description s...| 2015-08-31|\n",
      "|         US|   40599388|R1F8JMOSPJ3KO7|B000HEBAV2|     584680984|Presto Dual Profr...|         Kitchen|          5|            0|          0|   N|                Y|Awesome! First fr...|Awesome! First fr...| 2015-08-31|\n",
      "|         US|   22719359|R1ZISGY2BWW4Z5|B0012DS4GG|     772637306|Rubbermaid Produc...|         Kitchen|          5|            0|          0|   N|                Y|          Five Stars|Very good item. Q...| 2015-08-31|\n",
      "|         US|   47478640|R17PW4I3AE5WZW|B00FLQ4EE6|     755416578|Cuisinart 12-Piec...|         Kitchen|          5|            0|          0|   N|                Y|          Five Stars|sharp and look great| 2015-08-31|\n",
      "|         US|   34195504|R3D93G1KTP6A8P|B00DBS9OTG|     648762742|Kegco 6\" Stainles...|         Kitchen|          3|            0|          0|   N|                Y|         Three Stars|Should have come ...| 2015-08-31|\n",
      "+-----------+-----------+--------------+----------+--------------+--------------------+----------------+-----------+-------------+-----------+----+-----------------+--------------------+--------------------+-----------+\n",
      "only showing top 10 rows\n",
      "\n"
     ]
    }
   ],
   "source": [
    "from pyspark import SparkFiles\n",
    "# Load in user_data.csv from S3 into a DataFrame\n",
    "url = \"https://s3.amazonaws.com/amazon-reviews-pds/tsv/amazon_reviews_us_Kitchen_v1_00.tsv.gz\"\n",
    "spark.sparkContext.addFile(url)\n",
    "\n",
    "kitchen_df = spark.read.option('header', 'true').csv(SparkFiles.get(\"amazon_reviews_us_Kitchen_v1_00.tsv.gz\"), inferSchema=True, sep='\\t', timestampFormat=\"mm/dd/yy\")\n",
    "kitchen_df.show(10)"
   ]
  },
  {
   "cell_type": "code",
   "execution_count": 8,
   "metadata": {
    "colab": {
     "base_uri": "https://localhost:8080/"
    },
    "executionInfo": {
     "elapsed": 21414,
     "status": "ok",
     "timestamp": 1611174591761,
     "user": {
      "displayName": "Erika Yi",
      "photoUrl": "https://lh3.googleusercontent.com/a-/AOh14Ggz9v3ajjt637Cb6hx3Z1CLaITqBLD0pdIokrmTwQ=s64",
      "userId": "04227724872831522525"
     },
     "user_tz": 300
    },
    "id": "a9xcgwfowu1z",
    "outputId": "e67b8722-bcc9-4d93-df0d-03ed62c1bee9"
   },
   "outputs": [
    {
     "name": "stdout",
     "output_type": "stream",
     "text": [
      "4880466\n"
     ]
    }
   ],
   "source": [
    "# Count the number of the reviews \n",
    "print(kitchen_df.count())"
   ]
  },
  {
   "cell_type": "code",
   "execution_count": 9,
   "metadata": {
    "colab": {
     "base_uri": "https://localhost:8080/"
    },
    "executionInfo": {
     "elapsed": 72650,
     "status": "ok",
     "timestamp": 1611174643003,
     "user": {
      "displayName": "Erika Yi",
      "photoUrl": "https://lh3.googleusercontent.com/a-/AOh14Ggz9v3ajjt637Cb6hx3Z1CLaITqBLD0pdIokrmTwQ=s64",
      "userId": "04227724872831522525"
     },
     "user_tz": 300
    },
    "id": "4ZT_XsrYwwRT",
    "outputId": "d57acc81-58f0-435c-8898-289c5d855a30"
   },
   "outputs": [
    {
     "name": "stdout",
     "output_type": "stream",
     "text": [
      "4879961\n"
     ]
    }
   ],
   "source": [
    "# Drop duplicates and incomplete rows \n",
    "dropped_kitchen_df = kitchen_df.dropna()\n",
    "print(dropped_kitchen_df.count())"
   ]
  },
  {
   "cell_type": "code",
   "execution_count": 10,
   "metadata": {
    "colab": {
     "base_uri": "https://localhost:8080/"
    },
    "executionInfo": {
     "elapsed": 205221,
     "status": "ok",
     "timestamp": 1611174775590,
     "user": {
      "displayName": "Erika Yi",
      "photoUrl": "https://lh3.googleusercontent.com/a-/AOh14Ggz9v3ajjt637Cb6hx3Z1CLaITqBLD0pdIokrmTwQ=s64",
      "userId": "04227724872831522525"
     },
     "user_tz": 300
    },
    "id": "22KnJrvpwwmN",
    "outputId": "9f32c8a0-b22e-457c-dc29-e447ef57724c"
   },
   "outputs": [
    {
     "name": "stdout",
     "output_type": "stream",
     "text": [
      "4879961\n"
     ]
    }
   ],
   "source": [
    "# Drop duplicates and incomplete rows\n",
    "clean_kitchen_df = dropped_kitchen_df.dropDuplicates()\n",
    "print(clean_kitchen_df.count())"
   ]
  },
  {
   "cell_type": "code",
   "execution_count": 11,
   "metadata": {
    "colab": {
     "base_uri": "https://localhost:8080/"
    },
    "executionInfo": {
     "elapsed": 205210,
     "status": "ok",
     "timestamp": 1611174775591,
     "user": {
      "displayName": "Erika Yi",
      "photoUrl": "https://lh3.googleusercontent.com/a-/AOh14Ggz9v3ajjt637Cb6hx3Z1CLaITqBLD0pdIokrmTwQ=s64",
      "userId": "04227724872831522525"
     },
     "user_tz": 300
    },
    "id": "x-BWhr47ww2F",
    "outputId": "128e338f-aaf4-407d-ced0-834bebde4f4c"
   },
   "outputs": [
    {
     "name": "stdout",
     "output_type": "stream",
     "text": [
      "root\n",
      " |-- marketplace: string (nullable = true)\n",
      " |-- customer_id: integer (nullable = true)\n",
      " |-- review_id: string (nullable = true)\n",
      " |-- product_id: string (nullable = true)\n",
      " |-- product_parent: integer (nullable = true)\n",
      " |-- product_title: string (nullable = true)\n",
      " |-- product_category: string (nullable = true)\n",
      " |-- star_rating: integer (nullable = true)\n",
      " |-- helpful_votes: integer (nullable = true)\n",
      " |-- total_votes: integer (nullable = true)\n",
      " |-- vine: string (nullable = true)\n",
      " |-- verified_purchase: string (nullable = true)\n",
      " |-- review_headline: string (nullable = true)\n",
      " |-- review_body: string (nullable = true)\n",
      " |-- review_date: string (nullable = true)\n",
      "\n"
     ]
    }
   ],
   "source": [
    "# Check the schema\n",
    "clean_kitchen_df.printSchema()"
   ]
  },
  {
   "cell_type": "code",
   "execution_count": 12,
   "metadata": {
    "colab": {
     "base_uri": "https://localhost:8080/"
    },
    "executionInfo": {
     "elapsed": 327678,
     "status": "ok",
     "timestamp": 1611174898072,
     "user": {
      "displayName": "Erika Yi",
      "photoUrl": "https://lh3.googleusercontent.com/a-/AOh14Ggz9v3ajjt637Cb6hx3Z1CLaITqBLD0pdIokrmTwQ=s64",
      "userId": "04227724872831522525"
     },
     "user_tz": 300
    },
    "id": "B_cG1GakwxEV",
    "outputId": "2997f1cb-fd60-4518-d5b0-f348994ebd19"
   },
   "outputs": [
    {
     "name": "stdout",
     "output_type": "stream",
     "text": [
      "+--------------+-----------+----------+--------------+-----------+\n",
      "|     review_id|customer_id|product_id|product_parent|review_date|\n",
      "+--------------+-----------+----------+--------------+-----------+\n",
      "|R1002B10PD9ZFM|   24197845|B000LTOCSG|     630072149| 2009-07-20|\n",
      "|R1007DQP1BG5WJ|   17990743|B007M2OHEY|     362955205| 2014-09-12|\n",
      "|R100AIJ0ZFN8CZ|   33816354|B0001ZYYQU|     331822491| 2007-03-09|\n",
      "|R100C48B994FWD|   13231777|B00IK59T1S|     744019201| 2014-11-26|\n",
      "|R100E300CKVFYD|   53006884|B00833DQCU|     298219798| 2013-12-08|\n",
      "+--------------+-----------+----------+--------------+-----------+\n",
      "only showing top 5 rows\n",
      "\n"
     ]
    }
   ],
   "source": [
    "# Create a new DataFrame for review info\n",
    "review_id_table_kitchen = clean_kitchen_df.select([\"review_id\", \"customer_id\", \"product_id\", \"product_parent\", \"review_date\"])\n",
    "review_id_table_kitchen.show(5)"
   ]
  },
  {
   "cell_type": "code",
   "execution_count": 13,
   "metadata": {
    "colab": {
     "base_uri": "https://localhost:8080/"
    },
    "executionInfo": {
     "elapsed": 449249,
     "status": "ok",
     "timestamp": 1611175019654,
     "user": {
      "displayName": "Erika Yi",
      "photoUrl": "https://lh3.googleusercontent.com/a-/AOh14Ggz9v3ajjt637Cb6hx3Z1CLaITqBLD0pdIokrmTwQ=s64",
      "userId": "04227724872831522525"
     },
     "user_tz": 300
    },
    "id": "0cwexU4rZh44",
    "outputId": "112d602c-58fe-4009-f147-4c37df412cd1"
   },
   "outputs": [
    {
     "name": "stdout",
     "output_type": "stream",
     "text": [
      "+----------+--------------------+\n",
      "|product_id|       product_title|\n",
      "+----------+--------------------+\n",
      "|B000LTOCSG|Replacement Filte...|\n",
      "|B007M2OHEY|Fred & Friends E....|\n",
      "|B0001ZYYQU|KitchenAid Artisa...|\n",
      "|B00IK59T1S|PUR 7 Cup Pitcher...|\n",
      "|B00833DQCU|Prepworks from Pr...|\n",
      "+----------+--------------------+\n",
      "only showing top 5 rows\n",
      "\n"
     ]
    }
   ],
   "source": [
    "# Create a new DataFrame for unique values\n",
    "products_kitchen = clean_kitchen_df.select([\"product_id\", \"product_title\"])\n",
    "products_kitchen.show(5)"
   ]
  },
  {
   "cell_type": "code",
   "execution_count": 14,
   "metadata": {
    "colab": {
     "base_uri": "https://localhost:8080/"
    },
    "executionInfo": {
     "elapsed": 580576,
     "status": "ok",
     "timestamp": 1611175150994,
     "user": {
      "displayName": "Erika Yi",
      "photoUrl": "https://lh3.googleusercontent.com/a-/AOh14Ggz9v3ajjt637Cb6hx3Z1CLaITqBLD0pdIokrmTwQ=s64",
      "userId": "04227724872831522525"
     },
     "user_tz": 300
    },
    "id": "_I6IrGCeZiQV",
    "outputId": "1b0dc370-5674-401f-954e-82bfbe87b0a8"
   },
   "outputs": [
    {
     "data": {
      "text/plain": [
       "4879961"
      ]
     },
     "execution_count": 14,
     "metadata": {
      "tags": []
     },
     "output_type": "execute_result"
    }
   ],
   "source": [
    "# Total customers count \n",
    "customer_count = clean_kitchen_df.select([\"customer_id\"]).count()\n",
    "customer_count"
   ]
  },
  {
   "cell_type": "code",
   "execution_count": 15,
   "metadata": {
    "colab": {
     "base_uri": "https://localhost:8080/"
    },
    "executionInfo": {
     "elapsed": 723767,
     "status": "ok",
     "timestamp": 1611175294193,
     "user": {
      "displayName": "Erika Yi",
      "photoUrl": "https://lh3.googleusercontent.com/a-/AOh14Ggz9v3ajjt637Cb6hx3Z1CLaITqBLD0pdIokrmTwQ=s64",
      "userId": "04227724872831522525"
     },
     "user_tz": 300
    },
    "id": "yKk4YrhOZigI",
    "outputId": "510daa04-fb72-4ca2-ff5e-c9c1b88edc56"
   },
   "outputs": [
    {
     "name": "stdout",
     "output_type": "stream",
     "text": [
      "+-----------+---------------+\n",
      "|customer_id|customers_count|\n",
      "+-----------+---------------+\n",
      "|   16308995|              2|\n",
      "|    4709446|              1|\n",
      "|   31546122|              2|\n",
      "|   25866981|              7|\n",
      "|   11537699|              4|\n",
      "+-----------+---------------+\n",
      "only showing top 5 rows\n",
      "\n"
     ]
    }
   ],
   "source": [
    "# Create a new DataFrame for customers\n",
    "customers_kitchen = clean_kitchen_df.groupBy('customer_id').count()\n",
    "customers_kitchen_counts = customers_kitchen.withColumnRenamed('count', 'customers_count')\n",
    "customers_kitchen_counts.show(5)"
   ]
  },
  {
   "cell_type": "code",
   "execution_count": 16,
   "metadata": {
    "colab": {
     "base_uri": "https://localhost:8080/"
    },
    "executionInfo": {
     "elapsed": 850426,
     "status": "ok",
     "timestamp": 1611175420860,
     "user": {
      "displayName": "Erika Yi",
      "photoUrl": "https://lh3.googleusercontent.com/a-/AOh14Ggz9v3ajjt637Cb6hx3Z1CLaITqBLD0pdIokrmTwQ=s64",
      "userId": "04227724872831522525"
     },
     "user_tz": 300
    },
    "id": "yAykekgklpAs",
    "outputId": "88dd65da-f830-4c18-c4d8-1fdda883d68b"
   },
   "outputs": [
    {
     "name": "stdout",
     "output_type": "stream",
     "text": [
      "+--------------+-----------+-------------+-----------+----+\n",
      "|     review_id|star_rating|helpful_votes|total_votes|vine|\n",
      "+--------------+-----------+-------------+-----------+----+\n",
      "|R1002B10PD9ZFM|          5|            0|          0|   N|\n",
      "|R1007DQP1BG5WJ|          5|            0|          0|   N|\n",
      "|R100AIJ0ZFN8CZ|          4|            3|          3|   N|\n",
      "|R100C48B994FWD|          5|            0|          0|   N|\n",
      "|R100E300CKVFYD|          1|            3|          3|   N|\n",
      "+--------------+-----------+-------------+-----------+----+\n",
      "only showing top 5 rows\n",
      "\n"
     ]
    }
   ],
   "source": [
    "# Vine DataFrame \n",
    "vine_kitchen = clean_kitchen_df.select(['review_id', 'star_rating', 'helpful_votes', 'total_votes', 'vine'])\n",
    "vine_kitchen.show(5)"
   ]
  },
  {
   "cell_type": "code",
   "execution_count": 1,
   "metadata": {
    "executionInfo": {
     "elapsed": 524,
     "status": "ok",
     "timestamp": 1611174428797,
     "user": {
      "displayName": "Erika Yi",
      "photoUrl": "https://lh3.googleusercontent.com/a-/AOh14Ggz9v3ajjt637Cb6hx3Z1CLaITqBLD0pdIokrmTwQ=s64",
      "userId": "04227724872831522525"
     },
     "user_tz": 300
    },
    "id": "uJkrvP9LuPah"
   },
   "outputs": [],
   "source": [
    "# Write DataFrame to RDS\n",
    "# Configuration for RDS instance\n",
    "\n",
    "mode=\"append\"\n",
    "jdbc_url = \"jdbc:postgresql://<input endpoint>:5432/<database name>\"\n",
    "config = {\"user\":\"<input username>\",\n",
    "          \"password\": \"<input password>\",\n",
    "          \"driver\":\"org.postgresql.Driver\"}"
   ]
  },
  {
   "cell_type": "code",
   "execution_count": null,
   "metadata": {
    "id": "tCEdgux3wxV2"
   },
   "outputs": [],
   "source": [
    "# Write DataFrame to table\n",
    "\n",
    "review_id_table_kitchen.write.jdbc(url=jdbc_url, table='review_id_table', mode=mode, properties=config)"
   ]
  },
  {
   "cell_type": "code",
   "execution_count": null,
   "metadata": {
    "id": "FzgypvmAJmR1"
   },
   "outputs": [],
   "source": [
    "# Write DataFrame to table\n",
    "\n",
    "products_kitchen.write.jdbc(url=jdbc_url, table='products', mode=mode, properties=config)"
   ]
  },
  {
   "cell_type": "code",
   "execution_count": null,
   "metadata": {
    "id": "zJHclX7gJmk0"
   },
   "outputs": [],
   "source": [
    "# Write DataFrame to table\n",
    "\n",
    "customers_kitchen_counts.write.jdbc(url=jdbc_url, table='customers', mode=mode, properties=config)"
   ]
  },
  {
   "cell_type": "code",
   "execution_count": 17,
   "metadata": {
    "executionInfo": {
     "elapsed": 1324145,
     "status": "ok",
     "timestamp": 1611175894588,
     "user": {
      "displayName": "Erika Yi",
      "photoUrl": "https://lh3.googleusercontent.com/a-/AOh14Ggz9v3ajjt637Cb6hx3Z1CLaITqBLD0pdIokrmTwQ=s64",
      "userId": "04227724872831522525"
     },
     "user_tz": 300
    },
    "id": "iEWK3HrYJm2M"
   },
   "outputs": [],
   "source": [
    "# Write DataFrame to table\n",
    "\n",
    "vine_kitchen.write.jdbc(url=jdbc_url, table='vine_table', mode=mode, properties=config)"
   ]
  },
  {
   "cell_type": "code",
   "execution_count": null,
   "metadata": {
    "id": "9L0Ser8xJnFx"
   },
   "outputs": [],
   "source": []
  },
  {
   "cell_type": "code",
   "execution_count": null,
   "metadata": {
    "id": "W9v-j42QJnS8"
   },
   "outputs": [],
   "source": []
  }
 ],
 "metadata": {
  "colab": {
   "authorship_tag": "ABX9TyPII81BHIwEOTeCnVO99CKW",
   "collapsed_sections": [],
   "name": "main2_level1.ipynb",
   "provenance": []
  },
  "kernelspec": {
   "display_name": "Python 3",
   "language": "python",
   "name": "python3"
  },
  "language_info": {
   "codemirror_mode": {
    "name": "ipython",
    "version": 3
   },
   "file_extension": ".py",
   "mimetype": "text/x-python",
   "name": "python",
   "nbconvert_exporter": "python",
   "pygments_lexer": "ipython3",
   "version": "3.7.6"
  }
 },
 "nbformat": 4,
 "nbformat_minor": 1
}
