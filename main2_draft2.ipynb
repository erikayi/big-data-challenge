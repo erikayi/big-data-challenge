{
 "cells": [
  {
   "cell_type": "code",
   "execution_count": null,
   "metadata": {
    "colab": {
     "base_uri": "https://localhost:8080/"
    },
    "executionInfo": {
     "elapsed": 21299,
     "status": "ok",
     "timestamp": 1610944047491,
     "user": {
      "displayName": "Erika Yi",
      "photoUrl": "https://lh3.googleusercontent.com/a-/AOh14Ggz9v3ajjt637Cb6hx3Z1CLaITqBLD0pdIokrmTwQ=s64",
      "userId": "04227724872831522525"
     },
     "user_tz": 300
    },
    "id": "IJcg2brHJZ0R",
    "outputId": "ee35f9b0-1633-4ad7-8d97-bbd429aaaa3f"
   },
   "outputs": [
    {
     "name": "stdout",
     "output_type": "stream",
     "text": [
      "\r",
      "0% [Working]\r",
      "            \r",
      "Ign:1 https://developer.download.nvidia.com/compute/cuda/repos/ubuntu1804/x86_64  InRelease\n",
      "\r",
      "0% [Connecting to archive.ubuntu.com (91.189.88.152)] [Waiting for headers] [Wa\r",
      "                                                                               \r",
      "Hit:2 https://cloud.r-project.org/bin/linux/ubuntu bionic-cran40/ InRelease\n",
      "\r",
      "0% [Waiting for headers] [Waiting for headers] [Waiting for headers] [Waiting f\r",
      "0% [2 InRelease gpgv 3,626 B] [Waiting for headers] [Waiting for headers] [Wait\r",
      "                                                                               \r",
      "Get:3 http://ppa.launchpad.net/c2d4u.team/c2d4u4.0+/ubuntu bionic InRelease [15.9 kB]\n",
      "\r",
      "0% [2 InRelease gpgv 3,626 B] [Waiting for headers] [Waiting for headers] [3 In\r",
      "                                                                               \r",
      "Ign:4 https://developer.download.nvidia.com/compute/machine-learning/repos/ubuntu1804/x86_64  InRelease\n",
      "\r",
      "0% [2 InRelease gpgv 3,626 B] [Waiting for headers] [Waiting for headers] [3 In\r",
      "                                                                               \r",
      "Get:5 http://security.ubuntu.com/ubuntu bionic-security InRelease [88.7 kB]\n",
      "\r",
      "0% [2 InRelease gpgv 3,626 B] [Waiting for headers] [5 InRelease 14.2 kB/88.7 k\r",
      "                                                                               \r",
      "Hit:6 https://developer.download.nvidia.com/compute/cuda/repos/ubuntu1804/x86_64  Release\n",
      "\r",
      "0% [2 InRelease gpgv 3,626 B] [Waiting for headers] [5 InRelease 14.2 kB/88.7 k\r",
      "                                                                               \r",
      "Hit:7 https://developer.download.nvidia.com/compute/machine-learning/repos/ubuntu1804/x86_64  Release\n",
      "Hit:8 http://archive.ubuntu.com/ubuntu bionic InRelease\n",
      "Get:9 http://archive.ubuntu.com/ubuntu bionic-updates InRelease [88.7 kB]\n",
      "Hit:10 http://ppa.launchpad.net/cran/libgit2/ubuntu bionic InRelease\n",
      "Hit:12 http://ppa.launchpad.net/graphics-drivers/ppa/ubuntu bionic InRelease\n",
      "Get:13 http://archive.ubuntu.com/ubuntu bionic-backports InRelease [74.6 kB]\n",
      "Get:15 http://ppa.launchpad.net/c2d4u.team/c2d4u4.0+/ubuntu bionic/main Sources [1,713 kB]\n",
      "Get:16 http://ppa.launchpad.net/c2d4u.team/c2d4u4.0+/ubuntu bionic/main amd64 Packages [876 kB]\n",
      "Fetched 2,857 kB in 3s (1,049 kB/s)\n",
      "Reading package lists... Done\n"
     ]
    }
   ],
   "source": [
    "import os\n",
    "# Find the latest version of spark 2.0  from http://www-us.apache.org/dist/spark/ and enter as the spark version\n",
    "# For example:\n",
    "# spark_version = 'spark-3.0.1'\n",
    "spark_version = 'spark-3.0.1'\n",
    "os.environ['SPARK_VERSION']=spark_version\n",
    "\n",
    "# Install Spark and Java\n",
    "!apt-get update\n",
    "!apt-get install openjdk-8-jdk-headless -qq > /dev/null\n",
    "!wget -q http://www-us.apache.org/dist/spark/$SPARK_VERSION/$SPARK_VERSION-bin-hadoop2.7.tgz\n",
    "!tar xf $SPARK_VERSION-bin-hadoop2.7.tgz\n",
    "!pip install -q findspark\n",
    "\n",
    "# Set Environment Variables\n",
    "os.environ[\"JAVA_HOME\"] = \"/usr/lib/jvm/java-8-openjdk-amd64\"\n",
    "os.environ[\"SPARK_HOME\"] = f\"/content/{spark_version}-bin-hadoop2.7\"\n",
    "\n",
    "# Start a SparkSession\n",
    "import findspark\n",
    "findspark.init()"
   ]
  },
  {
   "cell_type": "code",
   "execution_count": null,
   "metadata": {
    "colab": {
     "base_uri": "https://localhost:8080/"
    },
    "executionInfo": {
     "elapsed": 917,
     "status": "ok",
     "timestamp": 1610944062655,
     "user": {
      "displayName": "Erika Yi",
      "photoUrl": "https://lh3.googleusercontent.com/a-/AOh14Ggz9v3ajjt637Cb6hx3Z1CLaITqBLD0pdIokrmTwQ=s64",
      "userId": "04227724872831522525"
     },
     "user_tz": 300
    },
    "id": "rmvQvUvpvmAV",
    "outputId": "ca491a49-43ec-4b9c-d203-1dfce87c6167"
   },
   "outputs": [
    {
     "name": "stdout",
     "output_type": "stream",
     "text": [
      "--2021-01-18 04:27:41--  https://jdbc.postgresql.org/download/postgresql-42.2.9.jar\n",
      "Resolving jdbc.postgresql.org (jdbc.postgresql.org)... 72.32.157.228, 2001:4800:3e1:1::228\n",
      "Connecting to jdbc.postgresql.org (jdbc.postgresql.org)|72.32.157.228|:443... connected.\n",
      "HTTP request sent, awaiting response... 200 OK\n",
      "Length: 914037 (893K) [application/java-archive]\n",
      "Saving to: ‘postgresql-42.2.9.jar’\n",
      "\n",
      "postgresql-42.2.9.j 100%[===================>] 892.61K  --.-KB/s    in 0.1s    \n",
      "\n",
      "2021-01-18 04:27:42 (6.06 MB/s) - ‘postgresql-42.2.9.jar’ saved [914037/914037]\n",
      "\n"
     ]
    }
   ],
   "source": [
    "!wget https://jdbc.postgresql.org/download/postgresql-42.2.9.jar"
   ]
  },
  {
   "cell_type": "code",
   "execution_count": null,
   "metadata": {
    "id": "MOkRxDgcvn8A"
   },
   "outputs": [],
   "source": [
    "from pyspark.sql import SparkSession\n",
    "spark = SparkSession.builder.appName(\"KitchenBigData\").config(\"spark.driver.extraClassPath\",\"/content/postgresql-42.2.9.jar\").getOrCreate()"
   ]
  },
  {
   "cell_type": "code",
   "execution_count": null,
   "metadata": {
    "colab": {
     "base_uri": "https://localhost:8080/"
    },
    "executionInfo": {
     "elapsed": 74432,
     "status": "ok",
     "timestamp": 1610944186358,
     "user": {
      "displayName": "Erika Yi",
      "photoUrl": "https://lh3.googleusercontent.com/a-/AOh14Ggz9v3ajjt637Cb6hx3Z1CLaITqBLD0pdIokrmTwQ=s64",
      "userId": "04227724872831522525"
     },
     "user_tz": 300
    },
    "id": "tmpGCglwJmeO",
    "outputId": "ce5e6764-4f78-411e-d2fa-4877b45b72f8"
   },
   "outputs": [
    {
     "name": "stdout",
     "output_type": "stream",
     "text": [
      "+-----------+-----------+--------------+----------+--------------+--------------------+----------------+-----------+-------------+-----------+----+-----------------+--------------------+--------------------+-----------+\n",
      "|marketplace|customer_id|     review_id|product_id|product_parent|       product_title|product_category|star_rating|helpful_votes|total_votes|vine|verified_purchase|     review_headline|         review_body|review_date|\n",
      "+-----------+-----------+--------------+----------+--------------+--------------------+----------------+-----------+-------------+-----------+----+-----------------+--------------------+--------------------+-----------+\n",
      "|         US|   37000337|R3DT59XH7HXR9K|B00303FI0G|     529320574|Arthur Court Pape...|         Kitchen|          5|            0|          0|   N|                Y|Beautiful. Looks ...|Beautiful.  Looks...| 2015-08-31|\n",
      "|         US|   15272914|R1LFS11BNASSU8|B00JCZKZN6|     274237558|Olde Thompson Bav...|         Kitchen|          5|            0|          1|   N|                Y| Awesome & Self-ness|I personally have...| 2015-08-31|\n",
      "|         US|   36137863|R296RT05AG0AF6|B00JLIKA5C|     544675303|Progressive Inter...|         Kitchen|          5|            0|          0|   N|                Y|Fabulous and wort...|Fabulous and wort...| 2015-08-31|\n",
      "|         US|   43311049|R3V37XDZ7ZCI3L|B000GBNB8G|     491599489|Zyliss Jumbo Garl...|         Kitchen|          5|            0|          1|   N|                Y|          Five Stars|A must if you lov...| 2015-08-31|\n",
      "|         US|   13763148|R14GU232NQFYX2|B00VJ5KX9S|     353790155|1 X Premier Pizza...|         Kitchen|          5|            0|          0|   N|                Y|     Better than sex|Worth every penny...| 2015-08-31|\n",
      "|         US|   19009420| RZQH4V7L2O1PL|B00HYB5YY0|     432241873|       CHEF Aluminum|         Kitchen|          1|            1|          1|   N|                Y|Does not work on ...|The description s...| 2015-08-31|\n",
      "|         US|   40599388|R1F8JMOSPJ3KO7|B000HEBAV2|     584680984|Presto Dual Profr...|         Kitchen|          5|            0|          0|   N|                Y|Awesome! First fr...|Awesome! First fr...| 2015-08-31|\n",
      "|         US|   22719359|R1ZISGY2BWW4Z5|B0012DS4GG|     772637306|Rubbermaid Produc...|         Kitchen|          5|            0|          0|   N|                Y|          Five Stars|Very good item. Q...| 2015-08-31|\n",
      "|         US|   47478640|R17PW4I3AE5WZW|B00FLQ4EE6|     755416578|Cuisinart 12-Piec...|         Kitchen|          5|            0|          0|   N|                Y|          Five Stars|sharp and look great| 2015-08-31|\n",
      "|         US|   34195504|R3D93G1KTP6A8P|B00DBS9OTG|     648762742|Kegco 6\" Stainles...|         Kitchen|          3|            0|          0|   N|                Y|         Three Stars|Should have come ...| 2015-08-31|\n",
      "+-----------+-----------+--------------+----------+--------------+--------------------+----------------+-----------+-------------+-----------+----+-----------------+--------------------+--------------------+-----------+\n",
      "only showing top 10 rows\n",
      "\n"
     ]
    }
   ],
   "source": [
    "from pyspark import SparkFiles\n",
    "# Load in user_data.csv from S3 into a DataFrame\n",
    "url = \"https://s3.amazonaws.com/amazon-reviews-pds/tsv/amazon_reviews_us_Kitchen_v1_00.tsv.gz\"\n",
    "spark.sparkContext.addFile(url)\n",
    "\n",
    "kitchen_df = spark.read.option('header', 'true').csv(SparkFiles.get(\"amazon_reviews_us_Kitchen_v1_00.tsv.gz\"), inferSchema=True, sep='\\t', timestampFormat=\"mm/dd/yy\")\n",
    "kitchen_df.show(10)"
   ]
  },
  {
   "cell_type": "code",
   "execution_count": null,
   "metadata": {
    "colab": {
     "base_uri": "https://localhost:8080/"
    },
    "executionInfo": {
     "elapsed": 21450,
     "status": "ok",
     "timestamp": 1610944326774,
     "user": {
      "displayName": "Erika Yi",
      "photoUrl": "https://lh3.googleusercontent.com/a-/AOh14Ggz9v3ajjt637Cb6hx3Z1CLaITqBLD0pdIokrmTwQ=s64",
      "userId": "04227724872831522525"
     },
     "user_tz": 300
    },
    "id": "a9xcgwfowu1z",
    "outputId": "36aabb3c-47b8-4f30-d285-a74b4e84af78"
   },
   "outputs": [
    {
     "name": "stdout",
     "output_type": "stream",
     "text": [
      "4880466\n"
     ]
    }
   ],
   "source": [
    "# Count the number of the reviews \n",
    "print(kitchen_df.count())"
   ]
  },
  {
   "cell_type": "code",
   "execution_count": null,
   "metadata": {
    "colab": {
     "base_uri": "https://localhost:8080/"
    },
    "executionInfo": {
     "elapsed": 50976,
     "status": "ok",
     "timestamp": 1610944435304,
     "user": {
      "displayName": "Erika Yi",
      "photoUrl": "https://lh3.googleusercontent.com/a-/AOh14Ggz9v3ajjt637Cb6hx3Z1CLaITqBLD0pdIokrmTwQ=s64",
      "userId": "04227724872831522525"
     },
     "user_tz": 300
    },
    "id": "4ZT_XsrYwwRT",
    "outputId": "1063eebc-5520-433d-8a1e-219145b77160"
   },
   "outputs": [
    {
     "name": "stdout",
     "output_type": "stream",
     "text": [
      "4879961\n"
     ]
    }
   ],
   "source": [
    "# Drop duplicates and incomplete rows \n",
    "dropped_kitchen_df = kitchen_df.dropna()\n",
    "print(dropped_kitchen_df.count())"
   ]
  },
  {
   "cell_type": "code",
   "execution_count": null,
   "metadata": {
    "colab": {
     "base_uri": "https://localhost:8080/"
    },
    "executionInfo": {
     "elapsed": 143794,
     "status": "ok",
     "timestamp": 1610944607995,
     "user": {
      "displayName": "Erika Yi",
      "photoUrl": "https://lh3.googleusercontent.com/a-/AOh14Ggz9v3ajjt637Cb6hx3Z1CLaITqBLD0pdIokrmTwQ=s64",
      "userId": "04227724872831522525"
     },
     "user_tz": 300
    },
    "id": "22KnJrvpwwmN",
    "outputId": "9d7caa85-851a-4250-aa2b-e73eda595fa0"
   },
   "outputs": [
    {
     "name": "stdout",
     "output_type": "stream",
     "text": [
      "4879961\n"
     ]
    }
   ],
   "source": [
    "# Drop duplicates and incomplete rows\n",
    "clean_kitchen_df = dropped_kitchen_df.dropDuplicates()\n",
    "print(clean_kitchen_df.count())"
   ]
  },
  {
   "cell_type": "code",
   "execution_count": null,
   "metadata": {
    "colab": {
     "base_uri": "https://localhost:8080/"
    },
    "executionInfo": {
     "elapsed": 325,
     "status": "ok",
     "timestamp": 1610944900661,
     "user": {
      "displayName": "Erika Yi",
      "photoUrl": "https://lh3.googleusercontent.com/a-/AOh14Ggz9v3ajjt637Cb6hx3Z1CLaITqBLD0pdIokrmTwQ=s64",
      "userId": "04227724872831522525"
     },
     "user_tz": 300
    },
    "id": "x-BWhr47ww2F",
    "outputId": "6c3ac00d-20c0-4396-93ef-64292c3651ae"
   },
   "outputs": [
    {
     "name": "stdout",
     "output_type": "stream",
     "text": [
      "root\n",
      " |-- marketplace: string (nullable = true)\n",
      " |-- customer_id: integer (nullable = true)\n",
      " |-- review_id: string (nullable = true)\n",
      " |-- product_id: string (nullable = true)\n",
      " |-- product_parent: integer (nullable = true)\n",
      " |-- product_title: string (nullable = true)\n",
      " |-- product_category: string (nullable = true)\n",
      " |-- star_rating: integer (nullable = true)\n",
      " |-- helpful_votes: integer (nullable = true)\n",
      " |-- total_votes: integer (nullable = true)\n",
      " |-- vine: string (nullable = true)\n",
      " |-- verified_purchase: string (nullable = true)\n",
      " |-- review_headline: string (nullable = true)\n",
      " |-- review_body: string (nullable = true)\n",
      " |-- review_date: string (nullable = true)\n",
      "\n"
     ]
    }
   ],
   "source": [
    "# Check the schema\n",
    "clean_kitchen_df.printSchema()"
   ]
  },
  {
   "cell_type": "code",
   "execution_count": null,
   "metadata": {
    "colab": {
     "base_uri": "https://localhost:8080/"
    },
    "executionInfo": {
     "elapsed": 125161,
     "status": "ok",
     "timestamp": 1610945035174,
     "user": {
      "displayName": "Erika Yi",
      "photoUrl": "https://lh3.googleusercontent.com/a-/AOh14Ggz9v3ajjt637Cb6hx3Z1CLaITqBLD0pdIokrmTwQ=s64",
      "userId": "04227724872831522525"
     },
     "user_tz": 300
    },
    "id": "B_cG1GakwxEV",
    "outputId": "f9a16150-0513-442c-93e9-44a71fb1deac"
   },
   "outputs": [
    {
     "name": "stdout",
     "output_type": "stream",
     "text": [
      "+-----------+--------------------+-----------+-------------+-----------+-----------------+--------------------+--------------------+-----------+\n",
      "|customer_id|       product_title|star_rating|helpful_votes|total_votes|verified_purchase|     review_headline|         review_body|review_date|\n",
      "+-----------+--------------------+-----------+-------------+-----------+-----------------+--------------------+--------------------+-----------+\n",
      "|   24197845|Replacement Filte...|          5|            0|          0|                Y|          Very Nice!|Very inexpensive,...| 2009-07-20|\n",
      "|   17990743|Fred & Friends E....|          5|            0|          0|                Y|          Five Stars|      Quite the gag!| 2014-09-12|\n",
      "|   33816354|KitchenAid Artisa...|          4|            3|          3|                N|Great Mixer, Reco...|I was looking at ...| 2007-03-09|\n",
      "|   13231777|PUR 7 Cup Pitcher...|          5|            0|          0|                Y|The water tastes ...|The water tastes ...| 2014-11-26|\n",
      "|   53006884|Prepworks from Pr...|          1|            3|          3|                Y|Chops nuts too small|It doesn't chop- ...| 2013-12-08|\n",
      "+-----------+--------------------+-----------+-------------+-----------+-----------------+--------------------+--------------------+-----------+\n",
      "only showing top 5 rows\n",
      "\n"
     ]
    }
   ],
   "source": [
    "# Create a new DataFrame for review info // Removed product_category since they'll be all belong to kitchen categories\n",
    "clean_kitchen_info = clean_kitchen_df.select([\"customer_id\", \"product_title\", \"star_rating\", \"helpful_votes\", \"total_votes\", \"verified_purchase\", \"review_headline\", \"review_body\", \"review_date\"])\n",
    "clean_kitchen_info.show(5)"
   ]
  },
  {
   "cell_type": "code",
   "execution_count": null,
   "metadata": {
    "id": "tCEdgux3wxV2"
   },
   "outputs": [],
   "source": [
    "# Write DataFrame to RDS\n",
    "# Configuration for RDS instance\n",
    "\n",
    "mode=\"append\"\n",
    "jdbc_url = \"jdbc:postgresql://<input endpoint>:5432/<database name>\"\n",
    "config = {\"user\":\"<input username>\",\n",
    "          \"password\": \"<input password>\",\n",
    "          \"driver\":\"org.postgresql.Driver\"}"
   ]
  },
  {
   "cell_type": "code",
   "execution_count": null,
   "metadata": {
    "id": "FzgypvmAJmR1"
   },
   "outputs": [],
   "source": []
  },
  {
   "cell_type": "code",
   "execution_count": null,
   "metadata": {
    "id": "zJHclX7gJmk0"
   },
   "outputs": [],
   "source": []
  },
  {
   "cell_type": "code",
   "execution_count": null,
   "metadata": {
    "id": "iEWK3HrYJm2M"
   },
   "outputs": [],
   "source": []
  },
  {
   "cell_type": "code",
   "execution_count": null,
   "metadata": {
    "id": "9L0Ser8xJnFx"
   },
   "outputs": [],
   "source": []
  },
  {
   "cell_type": "code",
   "execution_count": null,
   "metadata": {
    "id": "W9v-j42QJnS8"
   },
   "outputs": [],
   "source": []
  }
 ],
 "metadata": {
  "colab": {
   "authorship_tag": "ABX9TyO0ypMN7xAKkL2pFZkknMn6",
   "collapsed_sections": [],
   "name": "main2_level1.ipynb",
   "provenance": []
  },
  "kernelspec": {
   "display_name": "Python 3",
   "language": "python",
   "name": "python3"
  },
  "language_info": {
   "codemirror_mode": {
    "name": "ipython",
    "version": 3
   },
   "file_extension": ".py",
   "mimetype": "text/x-python",
   "name": "python",
   "nbconvert_exporter": "python",
   "pygments_lexer": "ipython3",
   "version": "3.7.6"
  }
 },
 "nbformat": 4,
 "nbformat_minor": 1
}
