{
 "cells": [
  {
   "cell_type": "code",
   "execution_count": 1,
   "metadata": {
    "colab": {
     "base_uri": "https://localhost:8080/"
    },
    "executionInfo": {
     "elapsed": 35244,
     "status": "ok",
     "timestamp": 1611121694939,
     "user": {
      "displayName": "Erika Yi",
      "photoUrl": "https://lh3.googleusercontent.com/a-/AOh14Ggz9v3ajjt637Cb6hx3Z1CLaITqBLD0pdIokrmTwQ=s64",
      "userId": "04227724872831522525"
     },
     "user_tz": 300
    },
    "id": "L-4rQuweG0tx",
    "outputId": "abccbf29-5364-44d1-9677-95f4e664ed57"
   },
   "outputs": [
    {
     "name": "stdout",
     "output_type": "stream",
     "text": [
      "Hit:1 https://cloud.r-project.org/bin/linux/ubuntu bionic-cran40/ InRelease\n",
      "Ign:2 https://developer.download.nvidia.com/compute/cuda/repos/ubuntu1804/x86_64  InRelease\n",
      "Hit:3 http://security.ubuntu.com/ubuntu bionic-security InRelease\n",
      "Ign:4 https://developer.download.nvidia.com/compute/machine-learning/repos/ubuntu1804/x86_64  InRelease\n",
      "Hit:5 https://developer.download.nvidia.com/compute/cuda/repos/ubuntu1804/x86_64  Release\n",
      "Hit:6 https://developer.download.nvidia.com/compute/machine-learning/repos/ubuntu1804/x86_64  Release\n",
      "Hit:7 http://ppa.launchpad.net/c2d4u.team/c2d4u4.0+/ubuntu bionic InRelease\n",
      "Hit:8 http://archive.ubuntu.com/ubuntu bionic InRelease\n",
      "Hit:10 http://archive.ubuntu.com/ubuntu bionic-updates InRelease\n",
      "Hit:11 http://ppa.launchpad.net/cran/libgit2/ubuntu bionic InRelease\n",
      "Hit:13 http://archive.ubuntu.com/ubuntu bionic-backports InRelease\n",
      "Hit:14 http://ppa.launchpad.net/graphics-drivers/ppa/ubuntu bionic InRelease\n",
      "Reading package lists... Done\n"
     ]
    }
   ],
   "source": [
    "import os\n",
    "# Find the latest version of spark 2.0  from http://www-us.apache.org/dist/spark/ and enter as the spark version\n",
    "# For example:\n",
    "# spark_version = 'spark-3.0.1'\n",
    "spark_version = 'spark-3.0.1'\n",
    "os.environ['SPARK_VERSION']=spark_version\n",
    "\n",
    "# Install Spark and Java\n",
    "!apt-get update\n",
    "!apt-get install openjdk-8-jdk-headless -qq > /dev/null\n",
    "!wget -q http://www-us.apache.org/dist/spark/$SPARK_VERSION/$SPARK_VERSION-bin-hadoop2.7.tgz\n",
    "!tar xf $SPARK_VERSION-bin-hadoop2.7.tgz\n",
    "!pip install -q findspark\n",
    "\n",
    "# Set Environment Variables\n",
    "os.environ[\"JAVA_HOME\"] = \"/usr/lib/jvm/java-8-openjdk-amd64\"\n",
    "os.environ[\"SPARK_HOME\"] = f\"/content/{spark_version}-bin-hadoop2.7\"\n",
    "\n",
    "# Start a SparkSession\n",
    "import findspark\n",
    "findspark.init()"
   ]
  },
  {
   "cell_type": "code",
   "execution_count": 2,
   "metadata": {
    "colab": {
     "base_uri": "https://localhost:8080/"
    },
    "executionInfo": {
     "elapsed": 2591,
     "status": "ok",
     "timestamp": 1611121738262,
     "user": {
      "displayName": "Erika Yi",
      "photoUrl": "https://lh3.googleusercontent.com/a-/AOh14Ggz9v3ajjt637Cb6hx3Z1CLaITqBLD0pdIokrmTwQ=s64",
      "userId": "04227724872831522525"
     },
     "user_tz": 300
    },
    "id": "RGpAAkzTOlxK",
    "outputId": "b3edf677-c5f6-4c36-aee6-df3042e18265"
   },
   "outputs": [
    {
     "name": "stdout",
     "output_type": "stream",
     "text": [
      "--2021-01-20 05:48:55--  https://jdbc.postgresql.org/download/postgresql-42.2.9.jar\n",
      "Resolving jdbc.postgresql.org (jdbc.postgresql.org)... 72.32.157.228, 2001:4800:3e1:1::228\n",
      "Connecting to jdbc.postgresql.org (jdbc.postgresql.org)|72.32.157.228|:443... connected.\n",
      "HTTP request sent, awaiting response... 200 OK\n",
      "Length: 914037 (893K) [application/java-archive]\n",
      "Saving to: ‘postgresql-42.2.9.jar.2’\n",
      "\n",
      "postgresql-42.2.9.j 100%[===================>] 892.61K  1.28MB/s    in 0.7s    \n",
      "\n",
      "2021-01-20 05:48:57 (1.28 MB/s) - ‘postgresql-42.2.9.jar.2’ saved [914037/914037]\n",
      "\n"
     ]
    }
   ],
   "source": [
    "!wget https://jdbc.postgresql.org/download/postgresql-42.2.9.jar"
   ]
  },
  {
   "cell_type": "code",
   "execution_count": 3,
   "metadata": {
    "executionInfo": {
     "elapsed": 7292,
     "status": "ok",
     "timestamp": 1611121746821,
     "user": {
      "displayName": "Erika Yi",
      "photoUrl": "https://lh3.googleusercontent.com/a-/AOh14Ggz9v3ajjt637Cb6hx3Z1CLaITqBLD0pdIokrmTwQ=s64",
      "userId": "04227724872831522525"
     },
     "user_tz": 300
    },
    "id": "qCzjRKwNa6Sd"
   },
   "outputs": [],
   "source": [
    "from pyspark.sql import SparkSession\n",
    "spark = SparkSession.builder.appName(\"MultilingualJapanBigData\").config(\"spark.driver.extraClassPath\",\"/content/postgresql-42.2.9.jar\").getOrCreate()"
   ]
  },
  {
   "cell_type": "code",
   "execution_count": 4,
   "metadata": {
    "colab": {
     "base_uri": "https://localhost:8080/"
    },
    "executionInfo": {
     "elapsed": 34751,
     "status": "ok",
     "timestamp": 1611121788091,
     "user": {
      "displayName": "Erika Yi",
      "photoUrl": "https://lh3.googleusercontent.com/a-/AOh14Ggz9v3ajjt637Cb6hx3Z1CLaITqBLD0pdIokrmTwQ=s64",
      "userId": "04227724872831522525"
     },
     "user_tz": 300
    },
    "id": "mdZZcelYHJKS",
    "outputId": "ed3d07f5-e33a-443b-a05c-adfa05e914b1"
   },
   "outputs": [
    {
     "name": "stdout",
     "output_type": "stream",
     "text": [
      "+-----------+-----------+--------------+----------+--------------+--------------------------------+----------------+-----------+-------------+-----------+----+-----------------+-------------------------------+-------------------------------------+-----------+\n",
      "|marketplace|customer_id|     review_id|product_id|product_parent|                   product_title|product_category|star_rating|helpful_votes|total_votes|vine|verified_purchase|                review_headline|                          review_body|review_date|\n",
      "+-----------+-----------+--------------+----------+--------------+--------------------------------+----------------+-----------+-------------+-----------+----+-----------------+-------------------------------+-------------------------------------+-----------+\n",
      "|         JP|      65317|R33RSUD4ZTRKT7|B000001GBJ|     957145596|            SONGS FROM A SECR...|           Music|          1|            1|         15|   N|                Y|                    残念ながら…| 残念ながら…趣味ではありませんでし...| 2012-12-05|\n",
      "|         JP|      65317|R2U1VB8GPZBBEH|B000YPWBQ2|     904244932| 鏡の中の鏡‾ペルト作品集(SACD...|           Music|          1|            4|         20|   N|                Y|                    残念ながら…| 残念ながら…趣味ではありませんでし...| 2012-12-05|\n",
      "|         JP|      65696|R1IBRCJPPGWVJW|B0002E5O9G|     108978277|            Les Miserables 10...|           Music|          5|            2|          3|   N|                Y|               ドリームキャスト|素晴らしいパフォーマンス。ミュージ...| 2013-03-02|\n",
      "|         JP|      67162| RL02CW5XLYONU|B00004SRJ5|     606528497|            It Takes a Nation...|           Music|          5|            6|          9|   N|                Y|                 やっぱりマスト|専門的な事を言わずにお勧めレコメを...| 2013-08-11|\n",
      "|         JP|      67701|R2LA2SS3HU3A3L|B0093H8H8I|     509738390|            Intel CPU Core I3...|              PC|          4|            2|          4|   N|                Y|               コスパ的には十分|          今までの環境（Core2 Duo ...| 2013-02-10|\n",
      "|         JP|      68380|R32DR19C0UCHYN|B00712Y28Q|      37188049|            figma METROID Oth...|            Toys|          4|            2|          3|   N|                Y|クオリティは非常に高いですが…。|     figmaは初めて買いましたが、ク...| 2014-02-09|\n",
      "|         JP|      68655|R3O2A01NE9JI2O|B00N0YIQFE|     916594821|                ART OFFICIAL AGE|           Music|          5|            8|         13|   N|                Y|       デビューからずっと凄い人|  1曲目でメーターがあがり、2曲目で...| 2015-01-08|\n",
      "|         JP|      68973| RH1BDBT513AMD|B0015HOFZI|      29559888|SONY ステレオレコードプレーヤ...|     Electronics|          1|            3|         15|   N|                Y|                       音がダメ|アナログをデジタルに換え保存できる...| 2012-11-30|\n",
      "|         JP|      69080|R1J820Q5MFGUVX|B001R0KH3M|     369834710|            Live at Last [DVD...|       Video DVD|          5|            1|          2|   N|                Y|                   待ちに待った|スティービーのライブＤＶＤの少ない...| 2014-04-19|\n",
      "|         JP|      69552|R1A63XC56E0M30|B007ZB06OW|     380169630|     1/1000 宇宙戦艦ヤマト219...|            Toys|          4|            1|          4|   N|                Y|         かなり精巧にできてます|  小学2年の子どもと2人で作りました...| 2013-01-06|\n",
      "+-----------+-----------+--------------+----------+--------------+--------------------------------+----------------+-----------+-------------+-----------+----+-----------------+-------------------------------+-------------------------------------+-----------+\n",
      "only showing top 10 rows\n",
      "\n"
     ]
    }
   ],
   "source": [
    "from pyspark import SparkFiles\n",
    "# Load in user_data.csv from S3 into a DataFrame\n",
    "url = \"https://s3.amazonaws.com/amazon-reviews-pds/tsv/amazon_reviews_multilingual_JP_v1_00.tsv.gz\"\n",
    "spark.sparkContext.addFile(url)\n",
    "\n",
    "multilingual_df = spark.read.option('header', 'true').csv(SparkFiles.get(\"amazon_reviews_multilingual_JP_v1_00.tsv.gz\"), inferSchema=True, sep='\\t', timestampFormat=\"mm/dd/yy\")\n",
    "multilingual_df.show(10)"
   ]
  },
  {
   "cell_type": "code",
   "execution_count": 5,
   "metadata": {
    "colab": {
     "base_uri": "https://localhost:8080/"
    },
    "executionInfo": {
     "elapsed": 35279,
     "status": "ok",
     "timestamp": 1611121792176,
     "user": {
      "displayName": "Erika Yi",
      "photoUrl": "https://lh3.googleusercontent.com/a-/AOh14Ggz9v3ajjt637Cb6hx3Z1CLaITqBLD0pdIokrmTwQ=s64",
      "userId": "04227724872831522525"
     },
     "user_tz": 300
    },
    "id": "AnHbM9ozLeO1",
    "outputId": "5641a2ab-77de-451a-e58a-a96a05b45b1f"
   },
   "outputs": [
    {
     "name": "stdout",
     "output_type": "stream",
     "text": [
      "262431\n"
     ]
    }
   ],
   "source": [
    "# Count the number of the reviews \n",
    "print(multilingual_df.count())"
   ]
  },
  {
   "cell_type": "code",
   "execution_count": 6,
   "metadata": {
    "colab": {
     "base_uri": "https://localhost:8080/"
    },
    "executionInfo": {
     "elapsed": 21603,
     "status": "ok",
     "timestamp": 1611121813783,
     "user": {
      "displayName": "Erika Yi",
      "photoUrl": "https://lh3.googleusercontent.com/a-/AOh14Ggz9v3ajjt637Cb6hx3Z1CLaITqBLD0pdIokrmTwQ=s64",
      "userId": "04227724872831522525"
     },
     "user_tz": 300
    },
    "id": "RBckA4gIYwjx",
    "outputId": "db82d6d2-1af9-4df1-8e77-04d0456e42c5"
   },
   "outputs": [
    {
     "name": "stdout",
     "output_type": "stream",
     "text": [
      "262422\n",
      "262422\n"
     ]
    }
   ],
   "source": [
    "# Drop duplicates and incomplete rows \n",
    "dropped_df = multilingual_df.dropna()\n",
    "print(dropped_df.count())\n",
    "\n",
    "clean_multilingual_df = dropped_df.dropDuplicates()\n",
    "print(clean_multilingual_df.count())"
   ]
  },
  {
   "cell_type": "code",
   "execution_count": 7,
   "metadata": {
    "colab": {
     "base_uri": "https://localhost:8080/"
    },
    "executionInfo": {
     "elapsed": 552,
     "status": "ok",
     "timestamp": 1611121827156,
     "user": {
      "displayName": "Erika Yi",
      "photoUrl": "https://lh3.googleusercontent.com/a-/AOh14Ggz9v3ajjt637Cb6hx3Z1CLaITqBLD0pdIokrmTwQ=s64",
      "userId": "04227724872831522525"
     },
     "user_tz": 300
    },
    "id": "qng0WCmdZPPR",
    "outputId": "d67a82d5-8839-4031-fc84-db03a0ebd3b2"
   },
   "outputs": [
    {
     "name": "stdout",
     "output_type": "stream",
     "text": [
      "root\n",
      " |-- marketplace: string (nullable = true)\n",
      " |-- customer_id: integer (nullable = true)\n",
      " |-- review_id: string (nullable = true)\n",
      " |-- product_id: string (nullable = true)\n",
      " |-- product_parent: integer (nullable = true)\n",
      " |-- product_title: string (nullable = true)\n",
      " |-- product_category: string (nullable = true)\n",
      " |-- star_rating: integer (nullable = true)\n",
      " |-- helpful_votes: integer (nullable = true)\n",
      " |-- total_votes: integer (nullable = true)\n",
      " |-- vine: string (nullable = true)\n",
      " |-- verified_purchase: string (nullable = true)\n",
      " |-- review_headline: string (nullable = true)\n",
      " |-- review_body: string (nullable = true)\n",
      " |-- review_date: string (nullable = true)\n",
      "\n"
     ]
    }
   ],
   "source": [
    "# Check the schema\n",
    "clean_multilingual_df.printSchema()"
   ]
  },
  {
   "cell_type": "code",
   "execution_count": 8,
   "metadata": {
    "colab": {
     "base_uri": "https://localhost:8080/"
    },
    "executionInfo": {
     "elapsed": 10365,
     "status": "ok",
     "timestamp": 1611121839633,
     "user": {
      "displayName": "Erika Yi",
      "photoUrl": "https://lh3.googleusercontent.com/a-/AOh14Ggz9v3ajjt637Cb6hx3Z1CLaITqBLD0pdIokrmTwQ=s64",
      "userId": "04227724872831522525"
     },
     "user_tz": 300
    },
    "id": "VZk_sdNwZaqq",
    "outputId": "cd40265e-25e1-4951-d889-e707c97d656d"
   },
   "outputs": [
    {
     "name": "stdout",
     "output_type": "stream",
     "text": [
      "+--------------+-----------+----------+--------------+-----------+\n",
      "|     review_id|customer_id|product_id|product_parent|review_date|\n",
      "+--------------+-----------+----------+--------------+-----------+\n",
      "| RV04LCHIC0BHE|      73497|B00197U0DU|      68475645| 2013-07-09|\n",
      "|R17093JI3IMACH|      94534|B00K0YXFK8|     827929624| 2014-06-29|\n",
      "|R2920GFMZCE0VK|      95573|B004KKX814|     892527235| 2014-04-23|\n",
      "|R1XIJILHR1JKG5|      98299|B006QJT442|     320190480| 2014-09-16|\n",
      "|R3DWALNLTTC449|    6094456|B000EPFQ3M|     595283860| 2015-06-17|\n",
      "+--------------+-----------+----------+--------------+-----------+\n",
      "only showing top 5 rows\n",
      "\n"
     ]
    }
   ],
   "source": [
    "# Create a new DataFrame for review info\n",
    "review_id_table_jp = clean_multilingual_df.select([\"review_id\", \"customer_id\", \"product_id\", \"product_parent\", \"review_date\"])\n",
    "review_id_table_jp.show(5)"
   ]
  },
  {
   "cell_type": "code",
   "execution_count": 9,
   "metadata": {
    "colab": {
     "base_uri": "https://localhost:8080/"
    },
    "executionInfo": {
     "elapsed": 16520,
     "status": "ok",
     "timestamp": 1611121848781,
     "user": {
      "displayName": "Erika Yi",
      "photoUrl": "https://lh3.googleusercontent.com/a-/AOh14Ggz9v3ajjt637Cb6hx3Z1CLaITqBLD0pdIokrmTwQ=s64",
      "userId": "04227724872831522525"
     },
     "user_tz": 300
    },
    "id": "THFOuAHatZOR",
    "outputId": "c77275fc-1349-4cee-8708-30c79d738d2c"
   },
   "outputs": [
    {
     "name": "stdout",
     "output_type": "stream",
     "text": [
      "+----------+------------------------------------+\n",
      "|product_id|                       product_title|\n",
      "+----------+------------------------------------+\n",
      "|B00197U0DU|                From Genesis to R...|\n",
      "|B00K0YXFK8|ゴシップガール 〈コンプリート・シ...|\n",
      "|B004KKX814|       ベイブレード BB-108 スター...|\n",
      "|B006QJT442| ヘルボーイ ゴールデン・アーミー ...|\n",
      "|B000EPFQ3M|          ティファニーで朝食を [DVD]|\n",
      "+----------+------------------------------------+\n",
      "only showing top 5 rows\n",
      "\n"
     ]
    }
   ],
   "source": [
    "# Create a new DataFrame for unique values\n",
    "products_jp = clean_multilingual_df.select([\"product_id\", \"product_title\"])\n",
    "products_jp.show(5)"
   ]
  },
  {
   "cell_type": "code",
   "execution_count": 10,
   "metadata": {
    "colab": {
     "base_uri": "https://localhost:8080/"
    },
    "executionInfo": {
     "elapsed": 13260,
     "status": "ok",
     "timestamp": 1611121881054,
     "user": {
      "displayName": "Erika Yi",
      "photoUrl": "https://lh3.googleusercontent.com/a-/AOh14Ggz9v3ajjt637Cb6hx3Z1CLaITqBLD0pdIokrmTwQ=s64",
      "userId": "04227724872831522525"
     },
     "user_tz": 300
    },
    "id": "caMFA-qeuJYn",
    "outputId": "0a985995-c70a-48fb-d2a1-8ce4b7b246fb"
   },
   "outputs": [
    {
     "data": {
      "text/plain": [
       "262422"
      ]
     },
     "execution_count": 10,
     "metadata": {
      "tags": []
     },
     "output_type": "execute_result"
    }
   ],
   "source": [
    "# Total customers count \n",
    "customer_count = clean_multilingual_df.select([\"customer_id\"]).count()\n",
    "customer_count"
   ]
  },
  {
   "cell_type": "code",
   "execution_count": 11,
   "metadata": {
    "colab": {
     "base_uri": "https://localhost:8080/"
    },
    "executionInfo": {
     "elapsed": 19032,
     "status": "ok",
     "timestamp": 1611121900097,
     "user": {
      "displayName": "Erika Yi",
      "photoUrl": "https://lh3.googleusercontent.com/a-/AOh14Ggz9v3ajjt637Cb6hx3Z1CLaITqBLD0pdIokrmTwQ=s64",
      "userId": "04227724872831522525"
     },
     "user_tz": 300
    },
    "id": "WwpTStfLtvRg",
    "outputId": "f94c8fad-6e57-4b9a-ea2e-7708116748c4"
   },
   "outputs": [
    {
     "name": "stdout",
     "output_type": "stream",
     "text": [
      "+-----------+---------------+\n",
      "|customer_id|customers_count|\n",
      "+-----------+---------------+\n",
      "|   30354407|             46|\n",
      "|   30792016|              1|\n",
      "|   32982882|              1|\n",
      "|   33060773|              2|\n",
      "|   36603798|              2|\n",
      "|   39960854|            230|\n",
      "|   40606398|            115|\n",
      "|   33745853|              3|\n",
      "|   34176483|              1|\n",
      "|   35396786|             18|\n",
      "|   35754111|             27|\n",
      "|   37893244|             31|\n",
      "|   26880875|              1|\n",
      "|   29760526|              5|\n",
      "|   38572516|             10|\n",
      "|   38619724|              4|\n",
      "|   39283359|             10|\n",
      "|   49053851|             53|\n",
      "|    7249117|              1|\n",
      "|   25500861|              2|\n",
      "+-----------+---------------+\n",
      "only showing top 20 rows\n",
      "\n"
     ]
    }
   ],
   "source": [
    "# Create a new DataFrame for customers\n",
    "customers_jp = clean_multilingual_df.groupBy('customer_id').count()\n",
    "customers_jp_counts = customers_jp.withColumnRenamed('count', 'customers_count')\n",
    "customers_jp_counts.show()"
   ]
  },
  {
   "cell_type": "code",
   "execution_count": 23,
   "metadata": {
    "colab": {
     "base_uri": "https://localhost:8080/"
    },
    "executionInfo": {
     "elapsed": 9174,
     "status": "ok",
     "timestamp": 1611124012360,
     "user": {
      "displayName": "Erika Yi",
      "photoUrl": "https://lh3.googleusercontent.com/a-/AOh14Ggz9v3ajjt637Cb6hx3Z1CLaITqBLD0pdIokrmTwQ=s64",
      "userId": "04227724872831522525"
     },
     "user_tz": 300
    },
    "id": "3IzuwsWGql6p",
    "outputId": "8a65e0dc-6c8b-4571-89e2-194dc0d684a8"
   },
   "outputs": [
    {
     "name": "stdout",
     "output_type": "stream",
     "text": [
      "+--------------+-----------+-------------+-----------+----+\n",
      "|     review_id|star_rating|helpful_votes|total_votes|vine|\n",
      "+--------------+-----------+-------------+-----------+----+\n",
      "| RV04LCHIC0BHE|          1|            6|         28|   N|\n",
      "|R17093JI3IMACH|          5|            4|          6|   N|\n",
      "|R2920GFMZCE0VK|          5|            1|          1|   N|\n",
      "|R1XIJILHR1JKG5|          5|            3|          4|   N|\n",
      "|R3DWALNLTTC449|          5|            0|          1|   N|\n",
      "+--------------+-----------+-------------+-----------+----+\n",
      "only showing top 5 rows\n",
      "\n"
     ]
    }
   ],
   "source": [
    "# vine table DataFrame\n",
    " \n",
    "vine_jp = clean_multilingual_df.select([\"review_id\", \"star_rating\", \"helpful_votes\", \"total_votes\", \"vine\"])\n",
    "vine_jp.show(5)"
   ]
  },
  {
   "cell_type": "code",
   "execution_count": 13,
   "metadata": {
    "executionInfo": {
     "elapsed": 535,
     "status": "ok",
     "timestamp": 1611122144526,
     "user": {
      "displayName": "Erika Yi",
      "photoUrl": "https://lh3.googleusercontent.com/a-/AOh14Ggz9v3ajjt637Cb6hx3Z1CLaITqBLD0pdIokrmTwQ=s64",
      "userId": "04227724872831522525"
     },
     "user_tz": 300
    },
    "id": "-DNKp29YaQ-c"
   },
   "outputs": [],
   "source": [
    "# Write DataFrame to RDS\n",
    "# Configuration for RDS instance\n",
    "\n",
    "mode=\"append\"\n",
    "jdbc_url = \"jdbc:postgresql://<input endpoint>:5432/<database name>\"\n",
    "config = {\"user\":\"<input username>\",\n",
    "          \"password\": \"<input password>\",\n",
    "          \"driver\":\"org.postgresql.Driver\"}"
   ]
  },
  {
   "cell_type": "code",
   "execution_count": 14,
   "metadata": {
    "executionInfo": {
     "elapsed": 345175,
     "status": "ok",
     "timestamp": 1611122493235,
     "user": {
      "displayName": "Erika Yi",
      "photoUrl": "https://lh3.googleusercontent.com/a-/AOh14Ggz9v3ajjt637Cb6hx3Z1CLaITqBLD0pdIokrmTwQ=s64",
      "userId": "04227724872831522525"
     },
     "user_tz": 300
    },
    "id": "s_onswd3ajkg"
   },
   "outputs": [],
   "source": [
    "# Write DataFrame to table\n",
    "\n",
    "review_id_table_jp.write.jdbc(url=jdbc_url, table='review_id_table', mode=mode, properties=config)"
   ]
  },
  {
   "cell_type": "code",
   "execution_count": 15,
   "metadata": {
    "executionInfo": {
     "elapsed": 347731,
     "status": "ok",
     "timestamp": 1611122948534,
     "user": {
      "displayName": "Erika Yi",
      "photoUrl": "https://lh3.googleusercontent.com/a-/AOh14Ggz9v3ajjt637Cb6hx3Z1CLaITqBLD0pdIokrmTwQ=s64",
      "userId": "04227724872831522525"
     },
     "user_tz": 300
    },
    "id": "TCLWgRV1akl8"
   },
   "outputs": [],
   "source": [
    "# Write DataFrame to table\n",
    "\n",
    "products_jp.write.jdbc(url=jdbc_url, table='products', mode=mode, properties=config)"
   ]
  },
  {
   "cell_type": "code",
   "execution_count": 16,
   "metadata": {
    "executionInfo": {
     "elapsed": 297512,
     "status": "ok",
     "timestamp": 1611123626541,
     "user": {
      "displayName": "Erika Yi",
      "photoUrl": "https://lh3.googleusercontent.com/a-/AOh14Ggz9v3ajjt637Cb6hx3Z1CLaITqBLD0pdIokrmTwQ=s64",
      "userId": "04227724872831522525"
     },
     "user_tz": 300
    },
    "id": "C4rnagxMak_J"
   },
   "outputs": [],
   "source": [
    "# Write DataFrame to customers table in RDS\n",
    "\n",
    "customers_jp_counts.write.jdbc(url=jdbc_url, table='customers', mode=mode, properties=config)"
   ]
  },
  {
   "cell_type": "code",
   "execution_count": 24,
   "metadata": {
    "executionInfo": {
     "elapsed": 345674,
     "status": "ok",
     "timestamp": 1611124399298,
     "user": {
      "displayName": "Erika Yi",
      "photoUrl": "https://lh3.googleusercontent.com/a-/AOh14Ggz9v3ajjt637Cb6hx3Z1CLaITqBLD0pdIokrmTwQ=s64",
      "userId": "04227724872831522525"
     },
     "user_tz": 300
    },
    "id": "OkFJz-_QalWA"
   },
   "outputs": [],
   "source": [
    "# Write DataFrame to customers table in RDS\n",
    "\n",
    "vine_jp.write.jdbc(url=jdbc_url, table='vine_table', mode=mode, properties=config)"
   ]
  }
 ],
 "metadata": {
  "colab": {
   "authorship_tag": "ABX9TyNmAmtVB/SoLiVy6kC3uKNP",
   "collapsed_sections": [],
   "name": "main1_level1.ipynb",
   "provenance": []
  },
  "kernelspec": {
   "display_name": "Python 3",
   "language": "python",
   "name": "python3"
  },
  "language_info": {
   "codemirror_mode": {
    "name": "ipython",
    "version": 3
   },
   "file_extension": ".py",
   "mimetype": "text/x-python",
   "name": "python",
   "nbconvert_exporter": "python",
   "pygments_lexer": "ipython3",
   "version": "3.7.6"
  }
 },
 "nbformat": 4,
 "nbformat_minor": 1
}
