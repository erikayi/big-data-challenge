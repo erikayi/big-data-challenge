{
 "cells": [
  {
   "cell_type": "code",
   "execution_count": 9,
   "metadata": {
    "colab": {
     "base_uri": "https://localhost:8080/"
    },
    "executionInfo": {
     "elapsed": 15332,
     "status": "ok",
     "timestamp": 1611032337107,
     "user": {
      "displayName": "Erika Yi",
      "photoUrl": "https://lh3.googleusercontent.com/a-/AOh14Ggz9v3ajjt637Cb6hx3Z1CLaITqBLD0pdIokrmTwQ=s64",
      "userId": "04227724872831522525"
     },
     "user_tz": 300
    },
    "id": "L-4rQuweG0tx",
    "outputId": "f36561c3-f649-4eec-e314-5b5cecfe9edf"
   },
   "outputs": [
    {
     "name": "stdout",
     "output_type": "stream",
     "text": [
      "\r",
      "0% [Working]\r",
      "            \r",
      "Hit:1 http://ppa.launchpad.net/c2d4u.team/c2d4u4.0+/ubuntu bionic InRelease\n",
      "\r",
      "0% [Waiting for headers] [Connecting to security.ubuntu.com (91.189.91.39)] [Co\r",
      "                                                                               \r",
      "Hit:2 http://archive.ubuntu.com/ubuntu bionic InRelease\n",
      "\r",
      "0% [Waiting for headers] [Connecting to security.ubuntu.com (91.189.91.39)] [Wa\r",
      "0% [1 InRelease gpgv 15.9 kB] [Waiting for headers] [Connecting to security.ubu\r",
      "                                                                               \r",
      "Hit:3 http://archive.ubuntu.com/ubuntu bionic-updates InRelease\n",
      "\r",
      "0% [1 InRelease gpgv 15.9 kB] [Connecting to security.ubuntu.com (91.189.91.39)\r",
      "                                                                               \r",
      "Hit:4 https://cloud.r-project.org/bin/linux/ubuntu bionic-cran40/ InRelease\n",
      "\r",
      "0% [1 InRelease gpgv 15.9 kB] [Waiting for headers] [Connecting to security.ubu\r",
      "                                                                               \r",
      "Hit:5 http://ppa.launchpad.net/cran/libgit2/ubuntu bionic InRelease\n",
      "\r",
      "0% [1 InRelease gpgv 15.9 kB] [Waiting for headers] [Connecting to security.ubu\r",
      "                                                                               \r",
      "Hit:6 http://archive.ubuntu.com/ubuntu bionic-backports InRelease\n",
      "\r",
      "0% [1 InRelease gpgv 15.9 kB] [Connecting to security.ubuntu.com (91.189.91.39)\r",
      "                                                                               \r",
      "Hit:7 http://ppa.launchpad.net/graphics-drivers/ppa/ubuntu bionic InRelease\n",
      "Hit:8 http://security.ubuntu.com/ubuntu bionic-security InRelease\n",
      "Ign:9 https://developer.download.nvidia.com/compute/cuda/repos/ubuntu1804/x86_64  InRelease\n",
      "Ign:10 https://developer.download.nvidia.com/compute/machine-learning/repos/ubuntu1804/x86_64  InRelease\n",
      "Hit:11 https://developer.download.nvidia.com/compute/cuda/repos/ubuntu1804/x86_64  Release\n",
      "Hit:12 https://developer.download.nvidia.com/compute/machine-learning/repos/ubuntu1804/x86_64  Release\n",
      "Reading package lists... Done\n"
     ]
    }
   ],
   "source": [
    "import os\n",
    "# Find the latest version of spark 2.0  from http://www-us.apache.org/dist/spark/ and enter as the spark version\n",
    "# For example:\n",
    "# spark_version = 'spark-3.0.1'\n",
    "spark_version = 'spark-3.0.1'\n",
    "os.environ['SPARK_VERSION']=spark_version\n",
    "\n",
    "# Install Spark and Java\n",
    "!apt-get update\n",
    "!apt-get install openjdk-8-jdk-headless -qq > /dev/null\n",
    "!wget -q http://www-us.apache.org/dist/spark/$SPARK_VERSION/$SPARK_VERSION-bin-hadoop2.7.tgz\n",
    "!tar xf $SPARK_VERSION-bin-hadoop2.7.tgz\n",
    "!pip install -q findspark\n",
    "\n",
    "# Set Environment Variables\n",
    "os.environ[\"JAVA_HOME\"] = \"/usr/lib/jvm/java-8-openjdk-amd64\"\n",
    "os.environ[\"SPARK_HOME\"] = f\"/content/{spark_version}-bin-hadoop2.7\"\n",
    "\n",
    "# Start a SparkSession\n",
    "import findspark\n",
    "findspark.init()"
   ]
  },
  {
   "cell_type": "code",
   "execution_count": 10,
   "metadata": {
    "colab": {
     "base_uri": "https://localhost:8080/"
    },
    "executionInfo": {
     "elapsed": 1651,
     "status": "ok",
     "timestamp": 1611032348435,
     "user": {
      "displayName": "Erika Yi",
      "photoUrl": "https://lh3.googleusercontent.com/a-/AOh14Ggz9v3ajjt637Cb6hx3Z1CLaITqBLD0pdIokrmTwQ=s64",
      "userId": "04227724872831522525"
     },
     "user_tz": 300
    },
    "id": "RGpAAkzTOlxK",
    "outputId": "9df71d82-230e-4faf-883c-96e9592b809a"
   },
   "outputs": [
    {
     "name": "stdout",
     "output_type": "stream",
     "text": [
      "--2021-01-19 04:59:06--  https://jdbc.postgresql.org/download/postgresql-42.2.9.jar\n",
      "Resolving jdbc.postgresql.org (jdbc.postgresql.org)... 72.32.157.228, 2001:4800:3e1:1::228\n",
      "Connecting to jdbc.postgresql.org (jdbc.postgresql.org)|72.32.157.228|:443... connected.\n",
      "HTTP request sent, awaiting response... 200 OK\n",
      "Length: 914037 (893K) [application/java-archive]\n",
      "Saving to: ‘postgresql-42.2.9.jar.1’\n",
      "\n",
      "postgresql-42.2.9.j 100%[===================>] 892.61K  1.75MB/s    in 0.5s    \n",
      "\n",
      "2021-01-19 04:59:07 (1.75 MB/s) - ‘postgresql-42.2.9.jar.1’ saved [914037/914037]\n",
      "\n"
     ]
    }
   ],
   "source": [
    "!wget https://jdbc.postgresql.org/download/postgresql-42.2.9.jar"
   ]
  },
  {
   "cell_type": "code",
   "execution_count": 11,
   "metadata": {
    "executionInfo": {
     "elapsed": 687,
     "status": "ok",
     "timestamp": 1611032353054,
     "user": {
      "displayName": "Erika Yi",
      "photoUrl": "https://lh3.googleusercontent.com/a-/AOh14Ggz9v3ajjt637Cb6hx3Z1CLaITqBLD0pdIokrmTwQ=s64",
      "userId": "04227724872831522525"
     },
     "user_tz": 300
    },
    "id": "qCzjRKwNa6Sd"
   },
   "outputs": [],
   "source": [
    "from pyspark.sql import SparkSession\n",
    "spark = SparkSession.builder.appName(\"MultilingualJapanBigData\").config(\"spark.driver.extraClassPath\",\"/content/postgresql-42.2.9.jar\").getOrCreate()"
   ]
  },
  {
   "cell_type": "code",
   "execution_count": 12,
   "metadata": {
    "colab": {
     "base_uri": "https://localhost:8080/"
    },
    "executionInfo": {
     "elapsed": 6178,
     "status": "ok",
     "timestamp": 1611032365085,
     "user": {
      "displayName": "Erika Yi",
      "photoUrl": "https://lh3.googleusercontent.com/a-/AOh14Ggz9v3ajjt637Cb6hx3Z1CLaITqBLD0pdIokrmTwQ=s64",
      "userId": "04227724872831522525"
     },
     "user_tz": 300
    },
    "id": "mdZZcelYHJKS",
    "outputId": "4fa22263-3b38-4c60-bc73-f9c2e993b857"
   },
   "outputs": [
    {
     "name": "stdout",
     "output_type": "stream",
     "text": [
      "+-----------+-----------+--------------+----------+--------------+--------------------------------+----------------+-----------+-------------+-----------+----+-----------------+-------------------------------+-------------------------------------+-----------+\n",
      "|marketplace|customer_id|     review_id|product_id|product_parent|                   product_title|product_category|star_rating|helpful_votes|total_votes|vine|verified_purchase|                review_headline|                          review_body|review_date|\n",
      "+-----------+-----------+--------------+----------+--------------+--------------------------------+----------------+-----------+-------------+-----------+----+-----------------+-------------------------------+-------------------------------------+-----------+\n",
      "|         JP|      65317|R33RSUD4ZTRKT7|B000001GBJ|     957145596|            SONGS FROM A SECR...|           Music|          1|            1|         15|   N|                Y|                    残念ながら…| 残念ながら…趣味ではありませんでし...| 2012-12-05|\n",
      "|         JP|      65317|R2U1VB8GPZBBEH|B000YPWBQ2|     904244932| 鏡の中の鏡‾ペルト作品集(SACD...|           Music|          1|            4|         20|   N|                Y|                    残念ながら…| 残念ながら…趣味ではありませんでし...| 2012-12-05|\n",
      "|         JP|      65696|R1IBRCJPPGWVJW|B0002E5O9G|     108978277|            Les Miserables 10...|           Music|          5|            2|          3|   N|                Y|               ドリームキャスト|素晴らしいパフォーマンス。ミュージ...| 2013-03-02|\n",
      "|         JP|      67162| RL02CW5XLYONU|B00004SRJ5|     606528497|            It Takes a Nation...|           Music|          5|            6|          9|   N|                Y|                 やっぱりマスト|専門的な事を言わずにお勧めレコメを...| 2013-08-11|\n",
      "|         JP|      67701|R2LA2SS3HU3A3L|B0093H8H8I|     509738390|            Intel CPU Core I3...|              PC|          4|            2|          4|   N|                Y|               コスパ的には十分|          今までの環境（Core2 Duo ...| 2013-02-10|\n",
      "|         JP|      68380|R32DR19C0UCHYN|B00712Y28Q|      37188049|            figma METROID Oth...|            Toys|          4|            2|          3|   N|                Y|クオリティは非常に高いですが…。|     figmaは初めて買いましたが、ク...| 2014-02-09|\n",
      "|         JP|      68655|R3O2A01NE9JI2O|B00N0YIQFE|     916594821|                ART OFFICIAL AGE|           Music|          5|            8|         13|   N|                Y|       デビューからずっと凄い人|  1曲目でメーターがあがり、2曲目で...| 2015-01-08|\n",
      "|         JP|      68973| RH1BDBT513AMD|B0015HOFZI|      29559888|SONY ステレオレコードプレーヤ...|     Electronics|          1|            3|         15|   N|                Y|                       音がダメ|アナログをデジタルに換え保存できる...| 2012-11-30|\n",
      "|         JP|      69080|R1J820Q5MFGUVX|B001R0KH3M|     369834710|            Live at Last [DVD...|       Video DVD|          5|            1|          2|   N|                Y|                   待ちに待った|スティービーのライブＤＶＤの少ない...| 2014-04-19|\n",
      "|         JP|      69552|R1A63XC56E0M30|B007ZB06OW|     380169630|     1/1000 宇宙戦艦ヤマト219...|            Toys|          4|            1|          4|   N|                Y|         かなり精巧にできてます|  小学2年の子どもと2人で作りました...| 2013-01-06|\n",
      "+-----------+-----------+--------------+----------+--------------+--------------------------------+----------------+-----------+-------------+-----------+----+-----------------+-------------------------------+-------------------------------------+-----------+\n",
      "only showing top 10 rows\n",
      "\n"
     ]
    }
   ],
   "source": [
    "from pyspark import SparkFiles\n",
    "# Load in user_data.csv from S3 into a DataFrame\n",
    "url = \"https://s3.amazonaws.com/amazon-reviews-pds/tsv/amazon_reviews_multilingual_JP_v1_00.tsv.gz\"\n",
    "spark.sparkContext.addFile(url)\n",
    "\n",
    "multilingual_df = spark.read.option('header', 'true').csv(SparkFiles.get(\"amazon_reviews_multilingual_JP_v1_00.tsv.gz\"), inferSchema=True, sep='\\t', timestampFormat=\"mm/dd/yy\")\n",
    "multilingual_df.show(10)"
   ]
  },
  {
   "cell_type": "code",
   "execution_count": 13,
   "metadata": {
    "colab": {
     "base_uri": "https://localhost:8080/"
    },
    "executionInfo": {
     "elapsed": 4149,
     "status": "ok",
     "timestamp": 1611032373339,
     "user": {
      "displayName": "Erika Yi",
      "photoUrl": "https://lh3.googleusercontent.com/a-/AOh14Ggz9v3ajjt637Cb6hx3Z1CLaITqBLD0pdIokrmTwQ=s64",
      "userId": "04227724872831522525"
     },
     "user_tz": 300
    },
    "id": "AnHbM9ozLeO1",
    "outputId": "867f6b3f-9abb-4e38-a18b-dd3b44f0a68d"
   },
   "outputs": [
    {
     "name": "stdout",
     "output_type": "stream",
     "text": [
      "262431\n"
     ]
    }
   ],
   "source": [
    "# Count the number of the reviews \n",
    "print(multilingual_df.count())"
   ]
  },
  {
   "cell_type": "code",
   "execution_count": 14,
   "metadata": {
    "colab": {
     "base_uri": "https://localhost:8080/"
    },
    "executionInfo": {
     "elapsed": 20272,
     "status": "ok",
     "timestamp": 1611032415641,
     "user": {
      "displayName": "Erika Yi",
      "photoUrl": "https://lh3.googleusercontent.com/a-/AOh14Ggz9v3ajjt637Cb6hx3Z1CLaITqBLD0pdIokrmTwQ=s64",
      "userId": "04227724872831522525"
     },
     "user_tz": 300
    },
    "id": "RBckA4gIYwjx",
    "outputId": "fb4be09e-3bf9-4a7a-f591-44fef30a1a9c"
   },
   "outputs": [
    {
     "name": "stdout",
     "output_type": "stream",
     "text": [
      "262422\n",
      "262422\n"
     ]
    }
   ],
   "source": [
    "# Drop duplicates and incomplete rows \n",
    "dropped_df = multilingual_df.dropna()\n",
    "print(dropped_df.count())\n",
    "\n",
    "clean_multilingual_df = dropped_df.dropDuplicates()\n",
    "print(clean_multilingual_df.count())"
   ]
  },
  {
   "cell_type": "code",
   "execution_count": 15,
   "metadata": {
    "colab": {
     "base_uri": "https://localhost:8080/"
    },
    "executionInfo": {
     "elapsed": 402,
     "status": "ok",
     "timestamp": 1611032419564,
     "user": {
      "displayName": "Erika Yi",
      "photoUrl": "https://lh3.googleusercontent.com/a-/AOh14Ggz9v3ajjt637Cb6hx3Z1CLaITqBLD0pdIokrmTwQ=s64",
      "userId": "04227724872831522525"
     },
     "user_tz": 300
    },
    "id": "qng0WCmdZPPR",
    "outputId": "016f39f9-3da3-4935-8465-31b08b67794a"
   },
   "outputs": [
    {
     "name": "stdout",
     "output_type": "stream",
     "text": [
      "root\n",
      " |-- marketplace: string (nullable = true)\n",
      " |-- customer_id: integer (nullable = true)\n",
      " |-- review_id: string (nullable = true)\n",
      " |-- product_id: string (nullable = true)\n",
      " |-- product_parent: integer (nullable = true)\n",
      " |-- product_title: string (nullable = true)\n",
      " |-- product_category: string (nullable = true)\n",
      " |-- star_rating: integer (nullable = true)\n",
      " |-- helpful_votes: integer (nullable = true)\n",
      " |-- total_votes: integer (nullable = true)\n",
      " |-- vine: string (nullable = true)\n",
      " |-- verified_purchase: string (nullable = true)\n",
      " |-- review_headline: string (nullable = true)\n",
      " |-- review_body: string (nullable = true)\n",
      " |-- review_date: string (nullable = true)\n",
      "\n"
     ]
    }
   ],
   "source": [
    "# Check the schema\n",
    "clean_multilingual_df.printSchema()"
   ]
  },
  {
   "cell_type": "code",
   "execution_count": 16,
   "metadata": {
    "colab": {
     "base_uri": "https://localhost:8080/"
    },
    "executionInfo": {
     "elapsed": 9025,
     "status": "ok",
     "timestamp": 1611032433225,
     "user": {
      "displayName": "Erika Yi",
      "photoUrl": "https://lh3.googleusercontent.com/a-/AOh14Ggz9v3ajjt637Cb6hx3Z1CLaITqBLD0pdIokrmTwQ=s64",
      "userId": "04227724872831522525"
     },
     "user_tz": 300
    },
    "id": "VZk_sdNwZaqq",
    "outputId": "34b3ccfd-f514-4258-ce93-07827aa4e5f3"
   },
   "outputs": [
    {
     "name": "stdout",
     "output_type": "stream",
     "text": [
      "+--------------+-----------+----------+--------------+-----------+\n",
      "|     review_id|customer_id|product_id|product_parent|review_date|\n",
      "+--------------+-----------+----------+--------------+-----------+\n",
      "| RV04LCHIC0BHE|      73497|B00197U0DU|      68475645| 2013-07-09|\n",
      "|R17093JI3IMACH|      94534|B00K0YXFK8|     827929624| 2014-06-29|\n",
      "|R2920GFMZCE0VK|      95573|B004KKX814|     892527235| 2014-04-23|\n",
      "|R1XIJILHR1JKG5|      98299|B006QJT442|     320190480| 2014-09-16|\n",
      "|R3DWALNLTTC449|    6094456|B000EPFQ3M|     595283860| 2015-06-17|\n",
      "+--------------+-----------+----------+--------------+-----------+\n",
      "only showing top 5 rows\n",
      "\n"
     ]
    }
   ],
   "source": [
    "# Create a new DataFrame for review info\n",
    "review_id_table_jp = clean_multilingual_df.select([\"review_id\", \"customer_id\", \"product_id\", \"product_parent\", \"review_date\"])\n",
    "review_id_table_jp.show(5)"
   ]
  },
  {
   "cell_type": "code",
   "execution_count": 17,
   "metadata": {
    "colab": {
     "base_uri": "https://localhost:8080/"
    },
    "executionInfo": {
     "elapsed": 9052,
     "status": "ok",
     "timestamp": 1611032448268,
     "user": {
      "displayName": "Erika Yi",
      "photoUrl": "https://lh3.googleusercontent.com/a-/AOh14Ggz9v3ajjt637Cb6hx3Z1CLaITqBLD0pdIokrmTwQ=s64",
      "userId": "04227724872831522525"
     },
     "user_tz": 300
    },
    "id": "THFOuAHatZOR",
    "outputId": "9eb0f427-0879-4dcf-f15f-294dc636856c"
   },
   "outputs": [
    {
     "name": "stdout",
     "output_type": "stream",
     "text": [
      "+----------+------------------------------------+\n",
      "|product_id|                       product_title|\n",
      "+----------+------------------------------------+\n",
      "|B00197U0DU|                From Genesis to R...|\n",
      "|B00K0YXFK8|ゴシップガール 〈コンプリート・シ...|\n",
      "|B004KKX814|       ベイブレード BB-108 スター...|\n",
      "|B006QJT442| ヘルボーイ ゴールデン・アーミー ...|\n",
      "|B000EPFQ3M|          ティファニーで朝食を [DVD]|\n",
      "+----------+------------------------------------+\n",
      "only showing top 5 rows\n",
      "\n"
     ]
    }
   ],
   "source": [
    "# Create a new DataFrame for unique values\n",
    "products_jp = clean_multilingual_df.select([\"product_id\", \"product_title\"])\n",
    "products_jp.show(5)"
   ]
  },
  {
   "cell_type": "code",
   "execution_count": 18,
   "metadata": {
    "colab": {
     "base_uri": "https://localhost:8080/"
    },
    "executionInfo": {
     "elapsed": 11851,
     "status": "ok",
     "timestamp": 1611032462708,
     "user": {
      "displayName": "Erika Yi",
      "photoUrl": "https://lh3.googleusercontent.com/a-/AOh14Ggz9v3ajjt637Cb6hx3Z1CLaITqBLD0pdIokrmTwQ=s64",
      "userId": "04227724872831522525"
     },
     "user_tz": 300
    },
    "id": "caMFA-qeuJYn",
    "outputId": "f557e06f-83d0-4433-ceb5-26a0b6be1f83"
   },
   "outputs": [
    {
     "data": {
      "text/plain": [
       "262422"
      ]
     },
     "execution_count": 18,
     "metadata": {
      "tags": []
     },
     "output_type": "execute_result"
    }
   ],
   "source": [
    "# Total customers count \n",
    "customer_count = clean_multilingual_df.select([\"customer_id\"]).count()\n",
    "customer_count"
   ]
  },
  {
   "cell_type": "code",
   "execution_count": 19,
   "metadata": {
    "colab": {
     "base_uri": "https://localhost:8080/"
    },
    "executionInfo": {
     "elapsed": 17351,
     "status": "ok",
     "timestamp": 1611032489841,
     "user": {
      "displayName": "Erika Yi",
      "photoUrl": "https://lh3.googleusercontent.com/a-/AOh14Ggz9v3ajjt637Cb6hx3Z1CLaITqBLD0pdIokrmTwQ=s64",
      "userId": "04227724872831522525"
     },
     "user_tz": 300
    },
    "id": "WwpTStfLtvRg",
    "outputId": "ba189c3a-c3f1-4035-a720-2728e8506812"
   },
   "outputs": [
    {
     "name": "stdout",
     "output_type": "stream",
     "text": [
      "+-----------+---------------+\n",
      "|customer_id|customers_count|\n",
      "+-----------+---------------+\n",
      "|   30354407|             46|\n",
      "|   30792016|              1|\n",
      "|   32982882|              1|\n",
      "|   33060773|              2|\n",
      "|   36603798|              2|\n",
      "|   39960854|            230|\n",
      "|   40606398|            115|\n",
      "|   33745853|              3|\n",
      "|   34176483|              1|\n",
      "|   35396786|             18|\n",
      "|   35754111|             27|\n",
      "|   37893244|             31|\n",
      "|   26880875|              1|\n",
      "|   29760526|              5|\n",
      "|   38572516|             10|\n",
      "|   38619724|              4|\n",
      "|   39283359|             10|\n",
      "|   49053851|             53|\n",
      "|    7249117|              1|\n",
      "|   25500861|              2|\n",
      "+-----------+---------------+\n",
      "only showing top 20 rows\n",
      "\n"
     ]
    }
   ],
   "source": [
    "# Create a new DataFrame for customers\n",
    "customers_jp = clean_multilingual_df.groupBy('customer_id').count()\n",
    "customers_jp_counts = customers_jp.withColumnRenamed('count', 'customers_count')\n",
    "customers_jp_counts.show()"
   ]
  },
  {
   "cell_type": "code",
   "execution_count": 20,
   "metadata": {
    "executionInfo": {
     "elapsed": 559,
     "status": "ok",
     "timestamp": 1611032571726,
     "user": {
      "displayName": "Erika Yi",
      "photoUrl": "https://lh3.googleusercontent.com/a-/AOh14Ggz9v3ajjt637Cb6hx3Z1CLaITqBLD0pdIokrmTwQ=s64",
      "userId": "04227724872831522525"
     },
     "user_tz": 300
    },
    "id": "-DNKp29YaQ-c"
   },
   "outputs": [],
   "source": [
    "# Write DataFrame to RDS\n",
    "# Configuration for RDS instance\n",
    "\n",
    "mode=\"append\"\n",
    "jdbc_url = \"jdbc:postgresql://<input endpoint>:5432/<database name>\"\n",
    "config = {\"user\":\"<input username>\",\n",
    "          \"password\": \"<input password>\",\n",
    "          \"driver\":\"org.postgresql.Driver\"}"
   ]
  },
  {
   "cell_type": "code",
   "execution_count": 21,
   "metadata": {
    "executionInfo": {
     "elapsed": 189306,
     "status": "ok",
     "timestamp": 1611033080212,
     "user": {
      "displayName": "Erika Yi",
      "photoUrl": "https://lh3.googleusercontent.com/a-/AOh14Ggz9v3ajjt637Cb6hx3Z1CLaITqBLD0pdIokrmTwQ=s64",
      "userId": "04227724872831522525"
     },
     "user_tz": 300
    },
    "id": "s_onswd3ajkg"
   },
   "outputs": [],
   "source": [
    "# Write DataFrame to table\n",
    "\n",
    "review_id_table_jp.write.jdbc(url=jdbc_url, table='review_id_table', mode=mode, properties=config)"
   ]
  },
  {
   "cell_type": "code",
   "execution_count": 22,
   "metadata": {
    "executionInfo": {
     "elapsed": 189990,
     "status": "ok",
     "timestamp": 1611033414815,
     "user": {
      "displayName": "Erika Yi",
      "photoUrl": "https://lh3.googleusercontent.com/a-/AOh14Ggz9v3ajjt637Cb6hx3Z1CLaITqBLD0pdIokrmTwQ=s64",
      "userId": "04227724872831522525"
     },
     "user_tz": 300
    },
    "id": "TCLWgRV1akl8"
   },
   "outputs": [],
   "source": [
    "# Write DataFrame to table\n",
    "\n",
    "products_jp.write.jdbc(url=jdbc_url, table='products', mode=mode, properties=config)"
   ]
  },
  {
   "cell_type": "code",
   "execution_count": 23,
   "metadata": {
    "executionInfo": {
     "elapsed": 165733,
     "status": "ok",
     "timestamp": 1611033580564,
     "user": {
      "displayName": "Erika Yi",
      "photoUrl": "https://lh3.googleusercontent.com/a-/AOh14Ggz9v3ajjt637Cb6hx3Z1CLaITqBLD0pdIokrmTwQ=s64",
      "userId": "04227724872831522525"
     },
     "user_tz": 300
    },
    "id": "C4rnagxMak_J"
   },
   "outputs": [],
   "source": [
    "# Write DataFrame to customers table in RDS\n",
    "\n",
    "customers_jp_counts.write.jdbc(url=jdbc_url, table='customers', mode=mode, properties=config)"
   ]
  },
  {
   "cell_type": "code",
   "execution_count": null,
   "metadata": {
    "executionInfo": {
     "elapsed": 71713,
     "status": "aborted",
     "timestamp": 1611031789197,
     "user": {
      "displayName": "Erika Yi",
      "photoUrl": "https://lh3.googleusercontent.com/a-/AOh14Ggz9v3ajjt637Cb6hx3Z1CLaITqBLD0pdIokrmTwQ=s64",
      "userId": "04227724872831522525"
     },
     "user_tz": 300
    },
    "id": "OkFJz-_QalWA"
   },
   "outputs": [],
   "source": []
  }
 ],
 "metadata": {
  "colab": {
   "authorship_tag": "ABX9TyOj+LK3Sa2HsLrh+eXdloE8",
   "collapsed_sections": [],
   "name": "main1_level1.ipynb",
   "provenance": []
  },
  "kernelspec": {
   "display_name": "Python 3",
   "language": "python",
   "name": "python3"
  },
  "language_info": {
   "codemirror_mode": {
    "name": "ipython",
    "version": 3
   },
   "file_extension": ".py",
   "mimetype": "text/x-python",
   "name": "python",
   "nbconvert_exporter": "python",
   "pygments_lexer": "ipython3",
   "version": "3.7.6"
  }
 },
 "nbformat": 4,
 "nbformat_minor": 1
}
